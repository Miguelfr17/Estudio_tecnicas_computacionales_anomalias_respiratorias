{
 "cells": [
  {
   "cell_type": "code",
   "execution_count": 1,
   "metadata": {},
   "outputs": [],
   "source": [
    "import matplotlib.pyplot as plt\n",
    "import numpy as np\n",
    "import os\n",
    "import PIL\n",
    "import tensorflow as tf\n",
    "from tensorflow import keras\n",
    "from tensorflow.keras import layers\n",
    "from tensorflow.keras.layers import Dense, Flatten, Dropout,GRU, Embedding, Conv1D,Conv2D, Conv3D\n",
    "from tensorflow.keras.models import Sequential\n",
    "from tensorflow.keras.optimizers import Adam, RMSprop, SGD\n",
    "\n",
    "\n",
    "\n"
   ]
  },
  {
   "cell_type": "code",
   "execution_count": 2,
   "metadata": {},
   "outputs": [
    {
     "name": "stdout",
     "output_type": "stream",
     "text": [
      "<module 'tensorflow._api.v2.version' from 'C:\\\\Users\\\\Miguel\\\\AppData\\\\Local\\\\Programs\\\\Python\\\\Python39\\\\lib\\\\site-packages\\\\tensorflow\\\\_api\\\\v2\\\\version\\\\__init__.py'>\n",
      "Num GPUs Available:  1\n"
     ]
    }
   ],
   "source": [
    "print(tf.version)\n",
    "print(\"Num GPUs Available: \", len(tf.config.list_physical_devices('GPU')))\n"
   ]
  },
  {
   "cell_type": "code",
   "execution_count": 3,
   "metadata": {},
   "outputs": [],
   "source": [
    "#Cargamos el dataset\n",
    "import pathlib\n",
    "data_dir = r\"C:\\Users\\Miguel\\OneDrive - Universidad de Oviedo\\TFG\\Bases de datos\\ICHBI\\DATASETS\\CICLOS_SINFILTRO\\Balanceado_2_clases\\dataset\"\n",
    "data_dir = pathlib.Path(data_dir)\n"
   ]
  },
  {
   "cell_type": "code",
   "execution_count": 4,
   "metadata": {},
   "outputs": [
    {
     "name": "stdout",
     "output_type": "stream",
     "text": [
      "6400\n"
     ]
    }
   ],
   "source": [
    "#comprobamos que esta cargado correctamente\n",
    "image_count = len(list(data_dir.glob('*/*.png')))\n",
    "print(image_count)\n"
   ]
  },
  {
   "cell_type": "code",
   "execution_count": 5,
   "metadata": {},
   "outputs": [
    {
     "data": {
      "image/png": "[encoded data removed]",
      "text/plain": [
       "<PIL.PngImagePlugin.PngImageFile image mode=RGBA size=224x224 at 0x25878F4F400>"
      ]
     },
     "execution_count": 5,
     "metadata": {},
     "output_type": "execute_result"
    }
   ],
   "source": [
    "#obtenemos un ejemplo\n",
    "crackles = list(data_dir.glob('normal/*'))\n",
    "PIL.Image.open(str(crackles[0]))\n"
   ]
  },
  {
   "cell_type": "code",
   "execution_count": 6,
   "metadata": {},
   "outputs": [
    {
     "name": "stdout",
     "output_type": "stream",
     "text": [
      "Found 6400 files belonging to 2 classes.\n",
      "Using 5120 files for training.\n"
     ]
    }
   ],
   "source": [
    "altura_imagen, anchura_imagen= 224,224\n",
    "batch_size=64\n",
    "train_ds= tf.keras.preprocessing.image_dataset_from_directory(\n",
    "    data_dir,\n",
    "    validation_split=0.2,\n",
    "    subset=\"training\",\n",
    "    seed=17,\n",
    "    label_mode='categorical',\n",
    "    image_size=(altura_imagen,anchura_imagen),\n",
    "    batch_size=batch_size)"
   ]
  },
  {
   "cell_type": "code",
   "execution_count": 97,
   "metadata": {},
   "outputs": [
    {
     "name": "stdout",
     "output_type": "stream",
     "text": [
      "Found 6400 files belonging to 2 classes.\n",
      "Using 1280 files for validation.\n"
     ]
    }
   ],
   "source": [
    "val_ds = tf.keras.preprocessing.image_dataset_from_directory(\n",
    "    data_dir,\n",
    "    validation_split=0.2,\n",
    "    subset=\"validation\",\n",
    "    seed=17,\n",
    "    label_mode='categorical',\n",
    "    image_size=(altura_imagen, anchura_imagen),\n",
    "    batch_size=batch_size)\n"
   ]
  },
  {
   "cell_type": "code",
   "execution_count": 98,
   "metadata": {},
   "outputs": [
    {
     "name": "stdout",
     "output_type": "stream",
     "text": [
      "['anomalo', 'normal']\n"
     ]
    }
   ],
   "source": [
    "class_names=train_ds.class_names\n",
    "print(class_names)"
   ]
  },
  {
   "cell_type": "code",
   "execution_count": 99,
   "metadata": {},
   "outputs": [],
   "source": [
    "\n",
    "resnet_model = Sequential()\n",
    "\n",
    "pretrained_model= tf.keras.applications.ResNet50(include_top=False, input_shape=(224,224,3),pooling='avg', classes=2,weights='imagenet')\n",
    "\n",
    "for layer in pretrained_model.layers:\n",
    "    layer.trainable=False\n",
    "\n",
    "resnet_model.add(pretrained_model)\n",
    "\n",
    "#############Base################\n",
    "#resnet_model.add(Flatten())\n",
    "#resnet_model.add(Dense(1024, activation='relu'))\n",
    "#################################\n",
    "\n",
    "#############2D2Drop##############\n",
    "resnet_model.add(Flatten())\n",
    "resnet_model.add(Dense(128, activation='relu'))\n",
    "resnet_model.add(Dropout(0.5))\n",
    "resnet_model.add(Dense(128, activation='relu'))\n",
    "resnet_model.add(Dropout(0.5))\n",
    "###################################\n",
    "\n",
    "##################Progresivo####################\n",
    "#resnet_model.add(Dense(2048, activation='relu'))\n",
    "#resnet_model.add(Dropout(0.5))\n",
    "#resnet_model.add(Dense(1024, activation='relu'))\n",
    "#resnet_model.add(Dropout(0.25))\n",
    "#resnet_model.add(Dense(512, activation='relu'))\n",
    "#resnet_model.add(Dropout(0.1))\n",
    "################################################\n",
    "\n",
    "\n",
    "resnet_model.add(Dense(2, activation='softmax'))\n"
   ]
  },
  {
   "cell_type": "code",
   "execution_count": 100,
   "metadata": {},
   "outputs": [
    {
     "name": "stdout",
     "output_type": "stream",
     "text": [
      "Model: \"sequential_6\"\n",
      "_________________________________________________________________\n",
      "Layer (type)                 Output Shape              Param #   \n",
      "=================================================================\n",
      "resnet50 (Functional)        (None, 2048)              23587712  \n",
      "_________________________________________________________________\n",
      "dense_16 (Dense)             (None, 2048)              4196352   \n",
      "_________________________________________________________________\n",
      "dropout_7 (Dropout)          (None, 2048)              0         \n",
      "_________________________________________________________________\n",
      "dense_17 (Dense)             (None, 1024)              2098176   \n",
      "_________________________________________________________________\n",
      "dropout_8 (Dropout)          (None, 1024)              0         \n",
      "_________________________________________________________________\n",
      "dense_18 (Dense)             (None, 512)               524800    \n",
      "_________________________________________________________________\n",
      "dropout_9 (Dropout)          (None, 512)               0         \n",
      "_________________________________________________________________\n",
      "dense_19 (Dense)             (None, 2)                 1026      \n",
      "=================================================================\n",
      "Total params: 30,408,066\n",
      "Trainable params: 6,820,354\n",
      "Non-trainable params: 23,587,712\n",
      "_________________________________________________________________\n"
     ]
    }
   ],
   "source": [
    "resnet_model.summary()"
   ]
  },
  {
   "cell_type": "code",
   "execution_count": 101,
   "metadata": {},
   "outputs": [],
   "source": [
    "resnet_model.compile(optimizer=Adam(learning_rate=0.001),loss='categorical_crossentropy',metrics=['accuracy'])"
   ]
  },
  {
   "cell_type": "code",
   "execution_count": 102,
   "metadata": {},
   "outputs": [
    {
     "name": "stdout",
     "output_type": "stream",
     "text": [
      "Epoch 1/100\n",
      "80/80 [==============================] - 16s 172ms/step - loss: 0.8464 - accuracy: 0.5322 - val_loss: 0.6610 - val_accuracy: 0.6070\n",
      "Epoch 2/100\n",
      "80/80 [==============================] - 13s 166ms/step - loss: 0.6835 - accuracy: 0.5744 - val_loss: 0.6443 - val_accuracy: 0.6352\n",
      "Epoch 3/100\n",
      "80/80 [==============================] - 13s 164ms/step - loss: 0.6550 - accuracy: 0.6125 - val_loss: 0.6327 - val_accuracy: 0.6508\n",
      "Epoch 4/100\n",
      "80/80 [==============================] - 13s 165ms/step - loss: 0.6410 - accuracy: 0.6240 - val_loss: 0.6344 - val_accuracy: 0.6539\n",
      "Epoch 5/100\n",
      "80/80 [==============================] - 17s 214ms/step - loss: 0.6246 - accuracy: 0.6488 - val_loss: 0.6096 - val_accuracy: 0.6695\n",
      "Epoch 6/100\n",
      "80/80 [==============================] - 14s 177ms/step - loss: 0.6217 - accuracy: 0.6525 - val_loss: 0.6315 - val_accuracy: 0.6453\n",
      "Epoch 7/100\n",
      "80/80 [==============================] - 13s 164ms/step - loss: 0.6058 - accuracy: 0.6678 - val_loss: 0.6192 - val_accuracy: 0.6633\n",
      "Epoch 8/100\n",
      "80/80 [==============================] - 13s 168ms/step - loss: 0.6075 - accuracy: 0.6705 - val_loss: 0.6110 - val_accuracy: 0.6750\n",
      "Epoch 9/100\n",
      "80/80 [==============================] - 14s 173ms/step - loss: 0.5982 - accuracy: 0.6742 - val_loss: 0.6058 - val_accuracy: 0.6766\n",
      "Epoch 10/100\n",
      "80/80 [==============================] - 14s 170ms/step - loss: 0.5825 - accuracy: 0.6896 - val_loss: 0.6054 - val_accuracy: 0.6719\n",
      "Epoch 11/100\n",
      "80/80 [==============================] - 14s 173ms/step - loss: 0.5826 - accuracy: 0.6848 - val_loss: 0.5934 - val_accuracy: 0.6719\n",
      "Epoch 12/100\n",
      "80/80 [==============================] - 14s 170ms/step - loss: 0.5776 - accuracy: 0.6889 - val_loss: 0.5945 - val_accuracy: 0.6742\n",
      "Epoch 13/100\n",
      "80/80 [==============================] - 14s 174ms/step - loss: 0.5684 - accuracy: 0.6986 - val_loss: 0.5978 - val_accuracy: 0.6797\n",
      "Epoch 14/100\n",
      "80/80 [==============================] - 14s 168ms/step - loss: 0.5611 - accuracy: 0.6973 - val_loss: 0.5873 - val_accuracy: 0.6820\n",
      "Epoch 15/100\n",
      "80/80 [==============================] - 14s 172ms/step - loss: 0.5568 - accuracy: 0.7051 - val_loss: 0.5980 - val_accuracy: 0.6766\n",
      "Epoch 16/100\n",
      "80/80 [==============================] - 14s 172ms/step - loss: 0.5528 - accuracy: 0.7123 - val_loss: 0.5824 - val_accuracy: 0.6906\n",
      "Epoch 17/100\n",
      "80/80 [==============================] - 14s 170ms/step - loss: 0.5551 - accuracy: 0.7064 - val_loss: 0.5965 - val_accuracy: 0.6695\n",
      "Epoch 18/100\n",
      "80/80 [==============================] - 14s 173ms/step - loss: 0.5508 - accuracy: 0.7049 - val_loss: 0.5846 - val_accuracy: 0.6820\n",
      "Epoch 19/100\n",
      "80/80 [==============================] - 14s 175ms/step - loss: 0.5374 - accuracy: 0.7287 - val_loss: 0.5787 - val_accuracy: 0.6930\n",
      "Epoch 20/100\n",
      "80/80 [==============================] - 14s 174ms/step - loss: 0.5364 - accuracy: 0.7250 - val_loss: 0.5795 - val_accuracy: 0.6852\n",
      "Epoch 21/100\n",
      "80/80 [==============================] - 14s 173ms/step - loss: 0.5223 - accuracy: 0.7236 - val_loss: 0.5753 - val_accuracy: 0.7000\n",
      "Epoch 22/100\n",
      "80/80 [==============================] - 14s 172ms/step - loss: 0.5246 - accuracy: 0.7332 - val_loss: 0.5794 - val_accuracy: 0.6859\n",
      "Epoch 23/100\n",
      "80/80 [==============================] - 14s 169ms/step - loss: 0.5123 - accuracy: 0.7385 - val_loss: 0.5803 - val_accuracy: 0.6953\n",
      "Epoch 24/100\n",
      "80/80 [==============================] - 14s 174ms/step - loss: 0.5119 - accuracy: 0.7371 - val_loss: 0.5825 - val_accuracy: 0.6906\n",
      "Epoch 25/100\n",
      "80/80 [==============================] - 14s 170ms/step - loss: 0.5104 - accuracy: 0.7443 - val_loss: 0.5808 - val_accuracy: 0.6883\n",
      "Epoch 26/100\n",
      "80/80 [==============================] - 14s 175ms/step - loss: 0.4951 - accuracy: 0.7437 - val_loss: 0.5859 - val_accuracy: 0.6969\n",
      "Epoch 27/100\n",
      "80/80 [==============================] - 14s 169ms/step - loss: 0.4948 - accuracy: 0.7430 - val_loss: 0.5856 - val_accuracy: 0.6930\n",
      "Epoch 28/100\n",
      "80/80 [==============================] - 13s 165ms/step - loss: 0.4971 - accuracy: 0.7488 - val_loss: 0.5885 - val_accuracy: 0.6836\n",
      "Epoch 29/100\n",
      "80/80 [==============================] - 13s 164ms/step - loss: 0.4922 - accuracy: 0.7512 - val_loss: 0.6104 - val_accuracy: 0.6914\n",
      "Epoch 30/100\n",
      "80/80 [==============================] - 14s 174ms/step - loss: 0.4841 - accuracy: 0.7600 - val_loss: 0.5760 - val_accuracy: 0.6953\n",
      "Epoch 31/100\n",
      "80/80 [==============================] - 13s 166ms/step - loss: 0.4819 - accuracy: 0.7527 - val_loss: 0.5850 - val_accuracy: 0.6852\n",
      "Epoch 32/100\n",
      "80/80 [==============================] - 14s 169ms/step - loss: 0.5015 - accuracy: 0.7469 - val_loss: 0.5817 - val_accuracy: 0.6859\n",
      "Epoch 33/100\n",
      "80/80 [==============================] - 12s 146ms/step - loss: 0.4903 - accuracy: 0.7568 - val_loss: 0.5962 - val_accuracy: 0.6812\n",
      "Epoch 34/100\n",
      "80/80 [==============================] - 11s 137ms/step - loss: 0.4771 - accuracy: 0.7596 - val_loss: 0.5821 - val_accuracy: 0.7039\n",
      "Epoch 35/100\n",
      "80/80 [==============================] - 11s 139ms/step - loss: 0.4557 - accuracy: 0.7641 - val_loss: 0.5846 - val_accuracy: 0.6914\n",
      "Epoch 36/100\n",
      "80/80 [==============================] - 11s 137ms/step - loss: 0.4613 - accuracy: 0.7615 - val_loss: 0.5768 - val_accuracy: 0.7141\n",
      "Epoch 37/100\n",
      "80/80 [==============================] - 11s 137ms/step - loss: 0.4701 - accuracy: 0.7641 - val_loss: 0.5948 - val_accuracy: 0.7000\n",
      "Epoch 38/100\n",
      "80/80 [==============================] - 11s 135ms/step - loss: 0.4627 - accuracy: 0.7600 - val_loss: 0.6577 - val_accuracy: 0.6875\n",
      "Epoch 39/100\n",
      "80/80 [==============================] - 11s 135ms/step - loss: 0.4613 - accuracy: 0.7727 - val_loss: 0.6488 - val_accuracy: 0.6836\n",
      "Epoch 40/100\n",
      "80/80 [==============================] - 11s 142ms/step - loss: 0.4596 - accuracy: 0.7643 - val_loss: 0.6358 - val_accuracy: 0.6945\n",
      "Epoch 41/100\n",
      "80/80 [==============================] - 12s 144ms/step - loss: 0.4676 - accuracy: 0.7535 - val_loss: 0.6049 - val_accuracy: 0.6945\n",
      "Epoch 42/100\n",
      "80/80 [==============================] - 11s 134ms/step - loss: 0.4634 - accuracy: 0.7586 - val_loss: 0.6366 - val_accuracy: 0.6852\n",
      "Epoch 43/100\n",
      "80/80 [==============================] - 11s 134ms/step - loss: 0.4539 - accuracy: 0.7693 - val_loss: 0.5911 - val_accuracy: 0.6797\n",
      "Epoch 44/100\n",
      "80/80 [==============================] - 11s 137ms/step - loss: 0.4497 - accuracy: 0.7740 - val_loss: 0.6085 - val_accuracy: 0.6898\n",
      "Epoch 45/100\n",
      "80/80 [==============================] - 11s 138ms/step - loss: 0.4373 - accuracy: 0.7809 - val_loss: 0.6010 - val_accuracy: 0.6969\n",
      "Epoch 46/100\n",
      "80/80 [==============================] - 11s 138ms/step - loss: 0.4349 - accuracy: 0.7779 - val_loss: 0.6109 - val_accuracy: 0.7078\n",
      "Epoch 47/100\n",
      "80/80 [==============================] - 11s 137ms/step - loss: 0.4389 - accuracy: 0.7846 - val_loss: 0.6279 - val_accuracy: 0.6898\n",
      "Epoch 48/100\n",
      "80/80 [==============================] - 11s 138ms/step - loss: 0.4406 - accuracy: 0.7775 - val_loss: 0.6226 - val_accuracy: 0.7055\n",
      "Epoch 49/100\n",
      "80/80 [==============================] - 11s 138ms/step - loss: 0.4242 - accuracy: 0.7840 - val_loss: 0.6321 - val_accuracy: 0.6914\n",
      "Epoch 50/100\n",
      "80/80 [==============================] - 11s 137ms/step - loss: 0.4269 - accuracy: 0.7764 - val_loss: 0.6284 - val_accuracy: 0.7023\n",
      "Epoch 51/100\n",
      "80/80 [==============================] - 15s 183ms/step - loss: 0.4248 - accuracy: 0.7857 - val_loss: 0.5880 - val_accuracy: 0.7063\n",
      "Epoch 52/100\n",
      "80/80 [==============================] - 13s 166ms/step - loss: 0.4116 - accuracy: 0.7861 - val_loss: 0.6080 - val_accuracy: 0.7023\n",
      "Epoch 53/100\n",
      "80/80 [==============================] - 13s 165ms/step - loss: 0.4292 - accuracy: 0.7783 - val_loss: 0.6192 - val_accuracy: 0.7023\n",
      "Epoch 54/100\n",
      "80/80 [==============================] - 13s 165ms/step - loss: 0.4198 - accuracy: 0.7832 - val_loss: 0.6424 - val_accuracy: 0.6906\n",
      "Epoch 55/100\n",
      "80/80 [==============================] - 13s 164ms/step - loss: 0.3990 - accuracy: 0.8045 - val_loss: 0.6688 - val_accuracy: 0.6953\n",
      "Epoch 56/100\n",
      "80/80 [==============================] - 13s 164ms/step - loss: 0.4256 - accuracy: 0.7861 - val_loss: 0.6128 - val_accuracy: 0.6977\n",
      "Epoch 57/100\n",
      "80/80 [==============================] - 13s 165ms/step - loss: 0.4055 - accuracy: 0.7896 - val_loss: 0.6704 - val_accuracy: 0.6859\n",
      "Epoch 58/100\n",
      "80/80 [==============================] - 13s 165ms/step - loss: 0.4188 - accuracy: 0.7859 - val_loss: 0.6075 - val_accuracy: 0.7023\n",
      "Epoch 59/100\n",
      "80/80 [==============================] - 13s 166ms/step - loss: 0.4091 - accuracy: 0.7898 - val_loss: 0.6411 - val_accuracy: 0.6805\n",
      "Epoch 60/100\n",
      "80/80 [==============================] - 14s 168ms/step - loss: 0.3980 - accuracy: 0.7947 - val_loss: 0.6307 - val_accuracy: 0.7063\n",
      "Epoch 61/100\n",
      "80/80 [==============================] - 13s 165ms/step - loss: 0.4116 - accuracy: 0.7947 - val_loss: 0.6097 - val_accuracy: 0.6977\n",
      "Epoch 62/100\n",
      "80/80 [==============================] - 13s 167ms/step - loss: 0.4191 - accuracy: 0.7775 - val_loss: 0.6344 - val_accuracy: 0.6828\n",
      "Epoch 63/100\n",
      "80/80 [==============================] - 13s 168ms/step - loss: 0.3945 - accuracy: 0.7969 - val_loss: 0.6388 - val_accuracy: 0.6977\n",
      "Epoch 64/100\n",
      "80/80 [==============================] - 13s 167ms/step - loss: 0.3997 - accuracy: 0.7871 - val_loss: 0.6652 - val_accuracy: 0.6961\n",
      "Epoch 65/100\n",
      "80/80 [==============================] - 14s 168ms/step - loss: 0.4118 - accuracy: 0.7807 - val_loss: 0.6206 - val_accuracy: 0.6969\n",
      "Epoch 66/100\n",
      "80/80 [==============================] - 14s 167ms/step - loss: 0.3918 - accuracy: 0.8035 - val_loss: 0.6812 - val_accuracy: 0.7047\n",
      "Epoch 67/100\n",
      "80/80 [==============================] - 14s 171ms/step - loss: 0.4151 - accuracy: 0.7859 - val_loss: 0.6530 - val_accuracy: 0.7016\n",
      "Epoch 68/100\n",
      "80/80 [==============================] - 14s 173ms/step - loss: 0.3838 - accuracy: 0.8039 - val_loss: 0.7023 - val_accuracy: 0.6938\n",
      "Epoch 69/100\n",
      "80/80 [==============================] - 14s 174ms/step - loss: 0.3848 - accuracy: 0.8008 - val_loss: 0.6557 - val_accuracy: 0.7102\n",
      "Epoch 70/100\n",
      "80/80 [==============================] - 14s 171ms/step - loss: 0.3981 - accuracy: 0.7947 - val_loss: 0.6951 - val_accuracy: 0.7055\n",
      "Epoch 71/100\n",
      "80/80 [==============================] - 14s 169ms/step - loss: 0.4187 - accuracy: 0.7699 - val_loss: 0.6505 - val_accuracy: 0.6977\n",
      "Epoch 72/100\n",
      "80/80 [==============================] - 13s 166ms/step - loss: 0.4178 - accuracy: 0.7812 - val_loss: 0.6680 - val_accuracy: 0.6766\n",
      "Epoch 73/100\n",
      "80/80 [==============================] - 14s 171ms/step - loss: 0.4003 - accuracy: 0.7893 - val_loss: 0.6610 - val_accuracy: 0.6953\n",
      "Epoch 74/100\n",
      "80/80 [==============================] - 14s 170ms/step - loss: 0.3998 - accuracy: 0.7893 - val_loss: 0.6577 - val_accuracy: 0.6719\n",
      "Epoch 75/100\n",
      "80/80 [==============================] - 14s 172ms/step - loss: 0.4059 - accuracy: 0.7783 - val_loss: 0.6477 - val_accuracy: 0.6992\n",
      "Epoch 76/100\n",
      "80/80 [==============================] - 14s 168ms/step - loss: 0.4115 - accuracy: 0.7744 - val_loss: 0.6778 - val_accuracy: 0.6852\n",
      "Epoch 77/100\n",
      "80/80 [==============================] - 13s 166ms/step - loss: 0.3834 - accuracy: 0.7936 - val_loss: 0.7105 - val_accuracy: 0.6992\n",
      "Epoch 78/100\n",
      "80/80 [==============================] - 17s 212ms/step - loss: 0.3836 - accuracy: 0.8002 - val_loss: 0.6615 - val_accuracy: 0.6922\n",
      "Epoch 79/100\n",
      "80/80 [==============================] - 14s 171ms/step - loss: 0.3770 - accuracy: 0.8023 - val_loss: 0.6716 - val_accuracy: 0.6922\n",
      "Epoch 80/100\n",
      "80/80 [==============================] - 14s 174ms/step - loss: 0.3751 - accuracy: 0.8080 - val_loss: 0.7009 - val_accuracy: 0.6922\n",
      "Epoch 81/100\n",
      "80/80 [==============================] - 14s 172ms/step - loss: 0.3776 - accuracy: 0.8006 - val_loss: 0.6606 - val_accuracy: 0.7055\n",
      "Epoch 82/100\n",
      "80/80 [==============================] - 13s 163ms/step - loss: 0.4000 - accuracy: 0.7895 - val_loss: 0.7099 - val_accuracy: 0.6844\n",
      "Epoch 83/100\n",
      "80/80 [==============================] - 14s 176ms/step - loss: 0.3827 - accuracy: 0.7977 - val_loss: 0.6577 - val_accuracy: 0.7031\n",
      "Epoch 84/100\n",
      "80/80 [==============================] - 18s 229ms/step - loss: 0.3731 - accuracy: 0.8113 - val_loss: 0.6836 - val_accuracy: 0.6945\n",
      "Epoch 85/100\n",
      "80/80 [==============================] - 25s 311ms/step - loss: 0.3708 - accuracy: 0.8098 - val_loss: 0.7221 - val_accuracy: 0.6984\n",
      "Epoch 86/100\n",
      "80/80 [==============================] - 14s 179ms/step - loss: 0.3687 - accuracy: 0.8074 - val_loss: 0.6949 - val_accuracy: 0.6812\n",
      "Epoch 87/100\n",
      "80/80 [==============================] - 16s 194ms/step - loss: 0.3715 - accuracy: 0.8113 - val_loss: 0.7528 - val_accuracy: 0.6891\n",
      "Epoch 88/100\n",
      "80/80 [==============================] - 14s 177ms/step - loss: 0.3826 - accuracy: 0.8008 - val_loss: 0.7032 - val_accuracy: 0.7109\n",
      "Epoch 89/100\n",
      "80/80 [==============================] - 15s 182ms/step - loss: 0.3818 - accuracy: 0.7992 - val_loss: 0.6716 - val_accuracy: 0.6922\n",
      "Epoch 90/100\n",
      "80/80 [==============================] - 14s 177ms/step - loss: 0.3908 - accuracy: 0.7982 - val_loss: 0.6607 - val_accuracy: 0.6891\n",
      "Epoch 91/100\n",
      "80/80 [==============================] - 15s 182ms/step - loss: 0.3850 - accuracy: 0.7951 - val_loss: 0.7167 - val_accuracy: 0.7023\n",
      "Epoch 92/100\n",
      "80/80 [==============================] - 15s 185ms/step - loss: 0.3671 - accuracy: 0.7965 - val_loss: 0.6955 - val_accuracy: 0.6977\n",
      "Epoch 93/100\n",
      "80/80 [==============================] - 15s 183ms/step - loss: 0.3683 - accuracy: 0.8070 - val_loss: 0.7629 - val_accuracy: 0.7055\n",
      "Epoch 94/100\n",
      "80/80 [==============================] - 15s 182ms/step - loss: 0.3631 - accuracy: 0.8117 - val_loss: 0.7918 - val_accuracy: 0.6945\n",
      "Epoch 95/100\n",
      "80/80 [==============================] - 14s 178ms/step - loss: 0.3514 - accuracy: 0.8168 - val_loss: 0.7898 - val_accuracy: 0.6891\n",
      "Epoch 96/100\n",
      "80/80 [==============================] - 14s 178ms/step - loss: 0.3685 - accuracy: 0.8088 - val_loss: 0.6601 - val_accuracy: 0.7133\n",
      "Epoch 97/100\n",
      "80/80 [==============================] - 14s 176ms/step - loss: 0.3608 - accuracy: 0.8061 - val_loss: 0.7599 - val_accuracy: 0.7000\n",
      "Epoch 98/100\n",
      "80/80 [==============================] - 15s 182ms/step - loss: 0.3580 - accuracy: 0.8113 - val_loss: 0.7812 - val_accuracy: 0.7000\n",
      "Epoch 99/100\n",
      "80/80 [==============================] - 15s 191ms/step - loss: 0.3336 - accuracy: 0.8248 - val_loss: 0.8255 - val_accuracy: 0.6977\n",
      "Epoch 100/100\n",
      "80/80 [==============================] - 15s 190ms/step - loss: 0.3410 - accuracy: 0.8252 - val_loss: 0.8152 - val_accuracy: 0.6914\n"
     ]
    }
   ],
   "source": [
    "epochs=100\n",
    "history= resnet_model.fit(train_ds, validation_data=val_ds, epochs=epochs)"
   ]
  },
  {
   "cell_type": "code",
   "execution_count": 103,
   "metadata": {},
   "outputs": [
    {
     "data": {
      "image/png": "[encoded data removed]",
      "text/plain": [
       "<Figure size 432x288 with 1 Axes>"
      ]
     },
     "metadata": {
      "needs_background": "light"
     },
     "output_type": "display_data"
    }
   ],
   "source": [
    "fig1=plt.gcf()\n",
    "plt.plot(history.history['accuracy'])\n",
    "plt.plot(history.history['val_accuracy'])\n",
    "plt.axis(ymin=0,ymax=1)\n",
    "plt.grid()\n",
    "plt.title('Model Accuracy')\n",
    "plt.ylabel('Accuracy')\n",
    "plt.xlabel('Epochs')\n",
    "plt.legend(['train','validation'])\n",
    "plt.show()"
   ]
  },
  {
   "cell_type": "code",
   "execution_count": 104,
   "metadata": {},
   "outputs": [
    {
     "data": {
      "image/png": "[encoded data removed]",
      "text/plain": [
       "<Figure size 432x288 with 1 Axes>"
      ]
     },
     "metadata": {
      "needs_background": "light"
     },
     "output_type": "display_data"
    }
   ],
   "source": [
    "fig1 = plt.gcf()\n",
    "plt.plot(history.history['loss'])\n",
    "plt.plot(history.history['val_loss'])\n",
    "plt.axis(ymin=0.1, ymax=3)\n",
    "plt.grid()\n",
    "plt.title('Model Loss')\n",
    "plt.ylabel('Loss')\n",
    "plt.xlabel('Epochs')\n",
    "plt.legend(['train', 'validation'])\n",
    "plt.show()\n"
   ]
  },
  {
   "cell_type": "code",
   "execution_count": 105,
   "metadata": {},
   "outputs": [],
   "source": [
    "resnet_model.save(\n",
    "    r'C:\\Users\\Miguel\\OneDrive - Universidad de Oviedo\\TFG\\Bases de datos\\Codigo\\ModelosEntrenados\\ResNet50_Balanced2_Butter_Prog_80_20.h5')\n"
   ]
  }
 ],
 "metadata": {
  "interpreter": {
   "hash": "c0e44d6e130a3c023df43b81b17527a06300f971f4b80a304d6dbf0e34bee940"
  },
  "kernelspec": {
   "display_name": "Python 3.9.5 64-bit",
   "name": "python3"
  },
  "language_info": {
   "codemirror_mode": {
    "name": "ipython",
    "version": 3
   },
   "file_extension": ".py",
   "mimetype": "text/x-python",
   "name": "python",
   "nbconvert_exporter": "python",
   "pygments_lexer": "ipython3",
   "version": "3.9.5"
  },
  "orig_nbformat": 4
 },
 "nbformat": 4,
 "nbformat_minor": 2
}
