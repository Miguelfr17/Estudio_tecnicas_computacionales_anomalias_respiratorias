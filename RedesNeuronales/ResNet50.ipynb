{
 "cells": [
  {
   "cell_type": "code",
   "execution_count": null,
   "metadata": {},
   "outputs": [],
   "source": [
    "import matplotlib.pyplot as plt\n",
    "import numpy as np\n",
    "import os\n",
    "import PIL\n",
    "import tensorflow as tf\n",
    "from tensorflow import keras\n",
    "from tensorflow.keras import layers\n",
    "from tensorflow.keras.layers import Dense, Flatten, Dropout,GRU, Embedding, Conv1D,Conv2D, Conv3D\n",
    "from tensorflow.keras.models import Sequential\n",
    "from tensorflow.keras.optimizers import Adam, RMSprop, SGD\n",
    "\n",
    "\n",
    "\n"
   ]
  },
  {
   "cell_type": "code",
   "execution_count": null,
   "metadata": {},
   "outputs": [],
   "source": [
    "print(tf.version)\n",
    "print(\"Num GPUs Available: \", len(tf.config.list_physical_devices('GPU')))\n"
   ]
  },
  {
   "cell_type": "code",
   "execution_count": null,
   "metadata": {},
   "outputs": [],
   "source": [
    "#Cargamos el dataset\n",
    "import pathlib\n",
    "data_dir = r\"C:\\Users\\Miguel\\OneDrive - Universidad de Oviedo\\TFG\\Bases de datos\\ICHBI\\DATASETS\\CICLOS_SINFILTRO\\Balanceado_2_clases\\dataset\"\n",
    "data_dir = pathlib.Path(data_dir)\n"
   ]
  },
  {
   "cell_type": "code",
   "execution_count": null,
   "metadata": {},
   "outputs": [],
   "source": [
    "#comprobamos que esta cargado correctamente\n",
    "image_count = len(list(data_dir.glob('*/*.png')))\n",
    "print(image_count)\n"
   ]
  },
  {
   "cell_type": "code",
   "execution_count": null,
   "metadata": {},
   "outputs": [],
   "source": [
    "#obtenemos un ejemplo\n",
    "crackles = list(data_dir.glob('normal/*'))\n",
    "PIL.Image.open(str(crackles[0]))\n"
   ]
  },
  {
   "cell_type": "code",
   "execution_count": null,
   "metadata": {},
   "outputs": [],
   "source": [
    "altura_imagen, anchura_imagen= 224,224\n",
    "batch_size=64\n",
    "train_ds= tf.keras.preprocessing.image_dataset_from_directory(\n",
    "    data_dir,\n",
    "    validation_split=0.2,\n",
    "    subset=\"training\",\n",
    "    seed=17,\n",
    "    label_mode='categorical',\n",
    "    image_size=(altura_imagen,anchura_imagen),\n",
    "    batch_size=batch_size)"
   ]
  },
  {
   "cell_type": "code",
   "execution_count": null,
   "metadata": {},
   "outputs": [],
   "source": [
    "val_ds = tf.keras.preprocessing.image_dataset_from_directory(\n",
    "    data_dir,\n",
    "    validation_split=0.2,\n",
    "    subset=\"validation\",\n",
    "    seed=17,\n",
    "    label_mode='categorical',\n",
    "    image_size=(altura_imagen, anchura_imagen),\n",
    "    batch_size=batch_size)\n"
   ]
  },
  {
   "cell_type": "code",
   "execution_count": null,
   "metadata": {},
   "outputs": [],
   "source": [
    "class_names=train_ds.class_names\n",
    "print(class_names)"
   ]
  },
  {
   "cell_type": "code",
   "execution_count": null,
   "metadata": {},
   "outputs": [],
   "source": [
    "\n",
    "resnet_model = Sequential()\n",
    "\n",
    "pretrained_model= tf.keras.applications.ResNet50(include_top=False, input_shape=(224,224,3),pooling='avg', classes=2,weights='imagenet')\n",
    "\n",
    "for layer in pretrained_model.layers:\n",
    "    layer.trainable=False\n",
    "\n",
    "resnet_model.add(pretrained_model)\n",
    "\n",
    "#############Base################\n",
    "#resnet_model.add(Flatten())\n",
    "#resnet_model.add(Dense(1024, activation='relu'))\n",
    "#################################\n",
    "\n",
    "#############2D2Drop##############\n",
    "resnet_model.add(Flatten())\n",
    "resnet_model.add(Dense(128, activation='relu'))\n",
    "resnet_model.add(Dropout(0.5))\n",
    "resnet_model.add(Dense(128, activation='relu'))\n",
    "resnet_model.add(Dropout(0.5))\n",
    "###################################\n",
    "\n",
    "##################Progresivo####################\n",
    "#resnet_model.add(Dense(2048, activation='relu'))\n",
    "#resnet_model.add(Dropout(0.5))\n",
    "#resnet_model.add(Dense(1024, activation='relu'))\n",
    "#resnet_model.add(Dropout(0.25))\n",
    "#resnet_model.add(Dense(512, activation='relu'))\n",
    "#resnet_model.add(Dropout(0.1))\n",
    "################################################\n",
    "\n",
    "\n",
    "resnet_model.add(Dense(2, activation='softmax'))\n"
   ]
  },
  {
   "cell_type": "code",
   "execution_count": null,
   "metadata": {},
   "outputs": [],
   "source": [
    "resnet_model.summary()"
   ]
  },
  {
   "cell_type": "code",
   "execution_count": null,
   "metadata": {},
   "outputs": [],
   "source": [
    "resnet_model.compile(optimizer=Adam(learning_rate=0.001),loss='categorical_crossentropy',metrics=['accuracy'])"
   ]
  },
  {
   "cell_type": "code",
   "execution_count": null,
   "metadata": {},
   "outputs": [],
   "source": [
    "epochs=100\n",
    "history= resnet_model.fit(train_ds, validation_data=val_ds, epochs=epochs)"
   ]
  },
  {
   "cell_type": "code",
   "execution_count": null,
   "metadata": {},
   "outputs": [],
   "source": [
    "fig1=plt.gcf()\n",
    "plt.plot(history.history['accuracy'])\n",
    "plt.plot(history.history['val_accuracy'])\n",
    "plt.axis(ymin=0,ymax=1)\n",
    "plt.grid()\n",
    "plt.title('Model Accuracy')\n",
    "plt.ylabel('Accuracy')\n",
    "plt.xlabel('Epochs')\n",
    "plt.legend(['train','validation'])\n",
    "plt.show()"
   ]
  },
  {
   "cell_type": "code",
   "execution_count": null,
   "metadata": {},
   "outputs": [],
   "source": [
    "fig1 = plt.gcf()\n",
    "plt.plot(history.history['loss'])\n",
    "plt.plot(history.history['val_loss'])\n",
    "plt.axis(ymin=0.1, ymax=3)\n",
    "plt.grid()\n",
    "plt.title('Model Loss')\n",
    "plt.ylabel('Loss')\n",
    "plt.xlabel('Epochs')\n",
    "plt.legend(['train', 'validation'])\n",
    "plt.show()\n"
   ]
  },
  {
   "cell_type": "code",
   "execution_count": null,
   "metadata": {},
   "outputs": [],
   "source": [
    "resnet_model.save(\n",
    "    r'C:\\Users\\Miguel\\OneDrive - Universidad de Oviedo\\TFG\\Bases de datos\\Codigo\\ModelosEntrenados\\ResNet50_Balanced2_Butter_Prog_80_20.h5')\n"
   ]
  }
 ],
 "metadata": {
  "interpreter": {
   "hash": "c0e44d6e130a3c023df43b81b17527a06300f971f4b80a304d6dbf0e34bee940"
  },
  "kernelspec": {
   "display_name": "Python 3.9.5 64-bit",
   "name": "python3"
  },
  "language_info": {
   "codemirror_mode": {
    "name": "ipython",
    "version": 3
   },
   "file_extension": ".py",
   "mimetype": "text/x-python",
   "name": "python",
   "nbconvert_exporter": "python",
   "pygments_lexer": "ipython3",
   "version": "3.9.5"
  },
  "orig_nbformat": 4
 },
 "nbformat": 4,
 "nbformat_minor": 2
}
