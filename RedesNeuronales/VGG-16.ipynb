{
 "cells": [
  {
   "cell_type": "code",
   "execution_count": 121,
   "metadata": {},
   "outputs": [],
   "source": [
    "import matplotlib.pyplot as plt\n",
    "import numpy as np\n",
    "import os\n",
    "import PIL\n",
    "import tensorflow as tf\n",
    "from tensorflow import keras\n",
    "from tensorflow.keras import layers\n",
    "from tensorflow.keras.layers import Dense, Flatten, Dropout\n",
    "from tensorflow.keras.models import Sequential\n",
    "from tensorflow.keras.optimizers import Adam, RMSprop, SGD\n"
   ]
  },
  {
   "cell_type": "code",
   "execution_count": 122,
   "metadata": {},
   "outputs": [
    {
     "name": "stdout",
     "output_type": "stream",
     "text": [
      "<module 'tensorflow._api.v2.version' from 'C:\\\\Users\\\\Miguel\\\\AppData\\\\Local\\\\Programs\\\\Python\\\\Python39\\\\lib\\\\site-packages\\\\tensorflow\\\\_api\\\\v2\\\\version\\\\__init__.py'>\n",
      "Num GPUs Available:  1\n"
     ]
    }
   ],
   "source": [
    "print(tf.version)\n",
    "print(\"Num GPUs Available: \", len(tf.config.list_physical_devices('GPU')))\n"
   ]
  },
  {
   "cell_type": "code",
   "execution_count": 123,
   "metadata": {},
   "outputs": [],
   "source": [
    "#Cargamos el dataset\n",
    "import pathlib\n",
    "data_dir = r\"C:\\Users\\Miguel\\OneDrive - Universidad de Oviedo\\TFG\\Bases de datos\\ICHBI\\DATASETS\\CICLOS_BUTTER\\Balanceado_4clases\\dataset\"\n",
    "data_dir = pathlib.Path(data_dir)\n"
   ]
  },
  {
   "cell_type": "code",
   "execution_count": 124,
   "metadata": {},
   "outputs": [
    {
     "name": "stdout",
     "output_type": "stream",
     "text": [
      "2000\n"
     ]
    }
   ],
   "source": [
    "#comprobamos que esta cargado correctamente\n",
    "image_count = len(list(data_dir.glob('*/*.png')))\n",
    "print(image_count)\n"
   ]
  },
  {
   "cell_type": "code",
   "execution_count": 125,
   "metadata": {},
   "outputs": [
    {
     "data": {
      "image/png": "[encoded data removed]",
      "text/plain": [
       "<PIL.PngImagePlugin.PngImageFile image mode=RGBA size=224x224 at 0x20633633490>"
      ]
     },
     "execution_count": 125,
     "metadata": {},
     "output_type": "execute_result"
    }
   ],
   "source": [
    "#obtenemos un ejemplo\n",
    "crackles = list(data_dir.glob('both/*'))\n",
    "PIL.Image.open(str(crackles[0]))\n"
   ]
  },
  {
   "cell_type": "code",
   "execution_count": 126,
   "metadata": {},
   "outputs": [
    {
     "name": "stdout",
     "output_type": "stream",
     "text": [
      "Found 2000 files belonging to 4 classes.\n",
      "Using 1600 files for training.\n"
     ]
    }
   ],
   "source": [
    "altura_imagen, anchura_imagen = 224, 224\n",
    "batch_size = 64\n",
    "train_ds = tf.keras.preprocessing.image_dataset_from_directory(\n",
    "    data_dir,\n",
    "    validation_split=0.2 ,\n",
    "    subset=\"training\",\n",
    "    seed=17,\n",
    "    label_mode='categorical',\n",
    "    image_size=(altura_imagen, anchura_imagen),\n",
    "    batch_size=batch_size)\n"
   ]
  },
  {
   "cell_type": "code",
   "execution_count": 127,
   "metadata": {},
   "outputs": [
    {
     "name": "stdout",
     "output_type": "stream",
     "text": [
      "Found 2000 files belonging to 4 classes.\n",
      "Using 400 files for validation.\n"
     ]
    }
   ],
   "source": [
    "val_ds = tf.keras.preprocessing.image_dataset_from_directory(\n",
    "    data_dir,\n",
    "    validation_split=0.2 ,\n",
    "    subset=\"validation\",\n",
    "    seed=17,\n",
    "    label_mode='categorical',\n",
    "    image_size=(altura_imagen, anchura_imagen),\n",
    "    batch_size=batch_size)\n"
   ]
  },
  {
   "cell_type": "code",
   "execution_count": 128,
   "metadata": {},
   "outputs": [
    {
     "name": "stdout",
     "output_type": "stream",
     "text": [
      "['both', 'crackles', 'empty', 'wheezes']\n"
     ]
    }
   ],
   "source": [
    "class_names = train_ds.class_names\n",
    "print(class_names)\n"
   ]
  },
  {
   "cell_type": "code",
   "execution_count": 129,
   "metadata": {},
   "outputs": [],
   "source": [
    "vgg_model= Sequential()\n",
    "\n",
    "pretrained_model = tf.keras.applications.VGG16(include_top=False, input_shape=(224, 224, 3), pooling='avg', classes=4 , weights='imagenet')\n",
    "\n",
    "for layer in pretrained_model.layers:\n",
    "    layer.trainable = False\n",
    "\n",
    "vgg_model.add(pretrained_model)\n",
    "\n",
    "#############Base################\n",
    "#vgg_model.add(Flatten())\n",
    "#vgg_model.add(Dense(1024, activation='relu'))\n",
    "#################################\n",
    "\n",
    "#############2D2Drop##############\n",
    "#vgg_model.add(Flatten())\n",
    "#vgg_model.add(Dense(128, activation='relu'))\n",
    "#vgg_model.add(Dropout(0.5))\n",
    "#vgg_model.add(Dense(128, activation='relu'))\n",
    "#vgg_model.add(Dropout(0.5))\n",
    "###################################\n",
    "\n",
    "##########Progresivo#############\n",
    "vgg_model.add(Dense(2048, activation='relu'))\n",
    "vgg_model.add(Dropout(0.5))\n",
    "vgg_model.add(Dense(1024, activation='relu'))\n",
    "vgg_model.add(Dropout(0.25))\n",
    "vgg_model.add(Dense(512, activation='relu'))\n",
    "vgg_model.add(Dropout(0.1))\n",
    "##################################\n",
    "\n",
    "\n",
    "vgg_model.add(Dense(4, activation='softmax'))\n"
   ]
  },
  {
   "cell_type": "code",
   "execution_count": 130,
   "metadata": {},
   "outputs": [
    {
     "name": "stdout",
     "output_type": "stream",
     "text": [
      "Model: \"sequential_8\"\n",
      "_________________________________________________________________\n",
      "Layer (type)                 Output Shape              Param #   \n",
      "=================================================================\n",
      "vgg16 (Functional)           (None, 512)               14714688  \n",
      "_________________________________________________________________\n",
      "dense_23 (Dense)             (None, 2048)              1050624   \n",
      "_________________________________________________________________\n",
      "dropout_12 (Dropout)         (None, 2048)              0         \n",
      "_________________________________________________________________\n",
      "dense_24 (Dense)             (None, 1024)              2098176   \n",
      "_________________________________________________________________\n",
      "dropout_13 (Dropout)         (None, 1024)              0         \n",
      "_________________________________________________________________\n",
      "dense_25 (Dense)             (None, 512)               524800    \n",
      "_________________________________________________________________\n",
      "dropout_14 (Dropout)         (None, 512)               0         \n",
      "_________________________________________________________________\n",
      "dense_26 (Dense)             (None, 4)                 2052      \n",
      "=================================================================\n",
      "Total params: 18,390,340\n",
      "Trainable params: 3,675,652\n",
      "Non-trainable params: 14,714,688\n",
      "_________________________________________________________________\n"
     ]
    }
   ],
   "source": [
    "vgg_model.summary()\n"
   ]
  },
  {
   "cell_type": "code",
   "execution_count": 131,
   "metadata": {},
   "outputs": [],
   "source": [
    "vgg_model.compile(optimizer=Adam(learning_rate=0.001),\n",
    "                     loss='categorical_crossentropy', metrics=['accuracy'])\n"
   ]
  },
  {
   "cell_type": "code",
   "execution_count": 132,
   "metadata": {},
   "outputs": [
    {
     "name": "stdout",
     "output_type": "stream",
     "text": [
      "Epoch 1/100\n",
      "25/25 [==============================] - 5s 198ms/step - loss: 2.6747 - accuracy: 0.2675 - val_loss: 1.3611 - val_accuracy: 0.3225\n",
      "Epoch 2/100\n",
      "25/25 [==============================] - 5s 189ms/step - loss: 1.3612 - accuracy: 0.3231 - val_loss: 1.2890 - val_accuracy: 0.3875\n",
      "Epoch 3/100\n",
      "25/25 [==============================] - 4s 166ms/step - loss: 1.2877 - accuracy: 0.3881 - val_loss: 1.2298 - val_accuracy: 0.3975\n",
      "Epoch 4/100\n",
      "25/25 [==============================] - 4s 156ms/step - loss: 1.2401 - accuracy: 0.4456 - val_loss: 1.2536 - val_accuracy: 0.4125\n",
      "Epoch 5/100\n",
      "25/25 [==============================] - 4s 157ms/step - loss: 1.1862 - accuracy: 0.4638 - val_loss: 1.2142 - val_accuracy: 0.4125\n",
      "Epoch 6/100\n",
      "25/25 [==============================] - 4s 157ms/step - loss: 1.1475 - accuracy: 0.4681 - val_loss: 1.2505 - val_accuracy: 0.4525\n",
      "Epoch 7/100\n",
      "25/25 [==============================] - 4s 157ms/step - loss: 1.1348 - accuracy: 0.4825 - val_loss: 1.1846 - val_accuracy: 0.4650\n",
      "Epoch 8/100\n",
      "25/25 [==============================] - 4s 157ms/step - loss: 1.0886 - accuracy: 0.5294 - val_loss: 1.1487 - val_accuracy: 0.5175\n",
      "Epoch 9/100\n",
      "25/25 [==============================] - 4s 157ms/step - loss: 1.0467 - accuracy: 0.5412 - val_loss: 1.1272 - val_accuracy: 0.5075\n",
      "Epoch 10/100\n",
      "25/25 [==============================] - 4s 157ms/step - loss: 1.0084 - accuracy: 0.5656 - val_loss: 1.0951 - val_accuracy: 0.5050\n",
      "Epoch 11/100\n",
      "25/25 [==============================] - 4s 156ms/step - loss: 0.9760 - accuracy: 0.5931 - val_loss: 1.1419 - val_accuracy: 0.4900\n",
      "Epoch 12/100\n",
      "25/25 [==============================] - 4s 155ms/step - loss: 0.9587 - accuracy: 0.5913 - val_loss: 1.1114 - val_accuracy: 0.4975\n",
      "Epoch 13/100\n",
      "25/25 [==============================] - 4s 154ms/step - loss: 0.9262 - accuracy: 0.6031 - val_loss: 1.0894 - val_accuracy: 0.5250\n",
      "Epoch 14/100\n",
      "25/25 [==============================] - 4s 155ms/step - loss: 0.8728 - accuracy: 0.6313 - val_loss: 1.1048 - val_accuracy: 0.5250\n",
      "Epoch 15/100\n",
      "25/25 [==============================] - 4s 158ms/step - loss: 0.9080 - accuracy: 0.6169 - val_loss: 1.1233 - val_accuracy: 0.5175\n",
      "Epoch 16/100\n",
      "25/25 [==============================] - 4s 158ms/step - loss: 0.8903 - accuracy: 0.6137 - val_loss: 1.1822 - val_accuracy: 0.4850\n",
      "Epoch 17/100\n",
      "25/25 [==============================] - 4s 168ms/step - loss: 0.8188 - accuracy: 0.6619 - val_loss: 1.1434 - val_accuracy: 0.5225\n",
      "Epoch 18/100\n",
      "25/25 [==============================] - 4s 162ms/step - loss: 0.7520 - accuracy: 0.6925 - val_loss: 1.1575 - val_accuracy: 0.5375\n",
      "Epoch 19/100\n",
      "25/25 [==============================] - 4s 158ms/step - loss: 0.7573 - accuracy: 0.6869 - val_loss: 1.1625 - val_accuracy: 0.5300\n",
      "Epoch 20/100\n",
      "25/25 [==============================] - 4s 158ms/step - loss: 0.7325 - accuracy: 0.7000 - val_loss: 1.1563 - val_accuracy: 0.5450\n",
      "Epoch 21/100\n",
      "25/25 [==============================] - 4s 162ms/step - loss: 0.7422 - accuracy: 0.6919 - val_loss: 1.1549 - val_accuracy: 0.5475\n",
      "Epoch 22/100\n",
      "25/25 [==============================] - 4s 165ms/step - loss: 0.6773 - accuracy: 0.7194 - val_loss: 1.1877 - val_accuracy: 0.5525\n",
      "Epoch 23/100\n",
      "25/25 [==============================] - 4s 162ms/step - loss: 0.6570 - accuracy: 0.7356 - val_loss: 1.2110 - val_accuracy: 0.5475\n",
      "Epoch 24/100\n",
      "25/25 [==============================] - 4s 158ms/step - loss: 0.6296 - accuracy: 0.7556 - val_loss: 1.2433 - val_accuracy: 0.5300\n",
      "Epoch 25/100\n",
      "25/25 [==============================] - 4s 162ms/step - loss: 0.6617 - accuracy: 0.7369 - val_loss: 1.2151 - val_accuracy: 0.5500\n",
      "Epoch 26/100\n",
      "25/25 [==============================] - 4s 168ms/step - loss: 0.6278 - accuracy: 0.7444 - val_loss: 1.1970 - val_accuracy: 0.5450\n",
      "Epoch 27/100\n",
      "25/25 [==============================] - 4s 164ms/step - loss: 0.6019 - accuracy: 0.7644 - val_loss: 1.2037 - val_accuracy: 0.5525\n",
      "Epoch 28/100\n",
      "25/25 [==============================] - 4s 166ms/step - loss: 0.6142 - accuracy: 0.7494 - val_loss: 1.2454 - val_accuracy: 0.4975\n",
      "Epoch 29/100\n",
      "25/25 [==============================] - 4s 160ms/step - loss: 0.5765 - accuracy: 0.7638 - val_loss: 1.2578 - val_accuracy: 0.5625\n",
      "Epoch 30/100\n",
      "25/25 [==============================] - 4s 158ms/step - loss: 0.5360 - accuracy: 0.7812 - val_loss: 1.3643 - val_accuracy: 0.5025\n",
      "Epoch 31/100\n",
      "25/25 [==============================] - 4s 168ms/step - loss: 0.6072 - accuracy: 0.7519 - val_loss: 1.2131 - val_accuracy: 0.5225\n",
      "Epoch 32/100\n",
      "25/25 [==============================] - 4s 159ms/step - loss: 0.5305 - accuracy: 0.7937 - val_loss: 1.3140 - val_accuracy: 0.5150\n",
      "Epoch 33/100\n",
      "25/25 [==============================] - 4s 161ms/step - loss: 0.5340 - accuracy: 0.7906 - val_loss: 1.3492 - val_accuracy: 0.5050\n",
      "Epoch 34/100\n",
      "25/25 [==============================] - 4s 159ms/step - loss: 0.5110 - accuracy: 0.7837 - val_loss: 1.3199 - val_accuracy: 0.5325\n",
      "Epoch 35/100\n",
      "25/25 [==============================] - 4s 162ms/step - loss: 0.4480 - accuracy: 0.8213 - val_loss: 1.4130 - val_accuracy: 0.5000\n",
      "Epoch 36/100\n",
      "25/25 [==============================] - 4s 163ms/step - loss: 0.4570 - accuracy: 0.8200 - val_loss: 1.3845 - val_accuracy: 0.5375\n",
      "Epoch 37/100\n",
      "25/25 [==============================] - 4s 161ms/step - loss: 0.4954 - accuracy: 0.7937 - val_loss: 1.3278 - val_accuracy: 0.5625\n",
      "Epoch 38/100\n",
      "25/25 [==============================] - 4s 158ms/step - loss: 0.4527 - accuracy: 0.8238 - val_loss: 1.3901 - val_accuracy: 0.5775\n",
      "Epoch 39/100\n",
      "25/25 [==============================] - 4s 165ms/step - loss: 0.4332 - accuracy: 0.8275 - val_loss: 1.4417 - val_accuracy: 0.5550\n",
      "Epoch 40/100\n",
      "25/25 [==============================] - 4s 164ms/step - loss: 0.3895 - accuracy: 0.8562 - val_loss: 1.4557 - val_accuracy: 0.5600\n",
      "Epoch 41/100\n",
      "25/25 [==============================] - 4s 160ms/step - loss: 0.4229 - accuracy: 0.8344 - val_loss: 1.4204 - val_accuracy: 0.5400\n",
      "Epoch 42/100\n",
      "25/25 [==============================] - 4s 167ms/step - loss: 0.3738 - accuracy: 0.8525 - val_loss: 1.4429 - val_accuracy: 0.5525\n",
      "Epoch 43/100\n",
      "25/25 [==============================] - 4s 163ms/step - loss: 0.4113 - accuracy: 0.8413 - val_loss: 1.4898 - val_accuracy: 0.5375\n",
      "Epoch 44/100\n",
      "25/25 [==============================] - 4s 159ms/step - loss: 0.3959 - accuracy: 0.8400 - val_loss: 1.5495 - val_accuracy: 0.5725\n",
      "Epoch 45/100\n",
      "25/25 [==============================] - 4s 160ms/step - loss: 0.3848 - accuracy: 0.8494 - val_loss: 1.6181 - val_accuracy: 0.5500\n",
      "Epoch 46/100\n",
      "25/25 [==============================] - 4s 162ms/step - loss: 0.3780 - accuracy: 0.8475 - val_loss: 1.5637 - val_accuracy: 0.5375\n",
      "Epoch 47/100\n",
      "25/25 [==============================] - 4s 161ms/step - loss: 0.4227 - accuracy: 0.8338 - val_loss: 1.4786 - val_accuracy: 0.5425\n",
      "Epoch 48/100\n",
      "25/25 [==============================] - 4s 157ms/step - loss: 0.3806 - accuracy: 0.8519 - val_loss: 1.4401 - val_accuracy: 0.5350\n",
      "Epoch 49/100\n",
      "25/25 [==============================] - 4s 158ms/step - loss: 0.3594 - accuracy: 0.8656 - val_loss: 1.4957 - val_accuracy: 0.5425\n",
      "Epoch 50/100\n",
      "25/25 [==============================] - 4s 158ms/step - loss: 0.3721 - accuracy: 0.8675 - val_loss: 1.4978 - val_accuracy: 0.5625\n",
      "Epoch 51/100\n",
      "25/25 [==============================] - 4s 162ms/step - loss: 0.3530 - accuracy: 0.8650 - val_loss: 1.5459 - val_accuracy: 0.5500\n",
      "Epoch 52/100\n",
      "25/25 [==============================] - 4s 158ms/step - loss: 0.3583 - accuracy: 0.8650 - val_loss: 1.4827 - val_accuracy: 0.5475\n",
      "Epoch 53/100\n",
      "25/25 [==============================] - 4s 158ms/step - loss: 0.3454 - accuracy: 0.8625 - val_loss: 1.6010 - val_accuracy: 0.5500\n",
      "Epoch 54/100\n",
      "25/25 [==============================] - 4s 158ms/step - loss: 0.3427 - accuracy: 0.8662 - val_loss: 1.5525 - val_accuracy: 0.5400\n",
      "Epoch 55/100\n",
      "25/25 [==============================] - 4s 157ms/step - loss: 0.3444 - accuracy: 0.8631 - val_loss: 1.5552 - val_accuracy: 0.5850\n",
      "Epoch 56/100\n",
      "25/25 [==============================] - 4s 167ms/step - loss: 0.3305 - accuracy: 0.8669 - val_loss: 1.5887 - val_accuracy: 0.5700\n",
      "Epoch 57/100\n",
      "25/25 [==============================] - 4s 160ms/step - loss: 0.3160 - accuracy: 0.8763 - val_loss: 1.6134 - val_accuracy: 0.5550\n",
      "Epoch 58/100\n",
      "25/25 [==============================] - 4s 162ms/step - loss: 0.2865 - accuracy: 0.8969 - val_loss: 1.7170 - val_accuracy: 0.5350\n",
      "Epoch 59/100\n",
      "25/25 [==============================] - 4s 160ms/step - loss: 0.2937 - accuracy: 0.8888 - val_loss: 1.7402 - val_accuracy: 0.5600\n",
      "Epoch 60/100\n",
      "25/25 [==============================] - 4s 159ms/step - loss: 0.3096 - accuracy: 0.8881 - val_loss: 1.5948 - val_accuracy: 0.5475\n",
      "Epoch 61/100\n",
      "25/25 [==============================] - 4s 160ms/step - loss: 0.2763 - accuracy: 0.8931 - val_loss: 1.7330 - val_accuracy: 0.5400\n",
      "Epoch 62/100\n",
      "25/25 [==============================] - 4s 159ms/step - loss: 0.2912 - accuracy: 0.8856 - val_loss: 1.7194 - val_accuracy: 0.5500\n",
      "Epoch 63/100\n",
      "25/25 [==============================] - 4s 160ms/step - loss: 0.3202 - accuracy: 0.8737 - val_loss: 1.6327 - val_accuracy: 0.5525\n",
      "Epoch 64/100\n",
      "25/25 [==============================] - 4s 160ms/step - loss: 0.3178 - accuracy: 0.8863 - val_loss: 1.7497 - val_accuracy: 0.5425\n",
      "Epoch 65/100\n",
      "25/25 [==============================] - 4s 158ms/step - loss: 0.2654 - accuracy: 0.9031 - val_loss: 1.6646 - val_accuracy: 0.5650\n",
      "Epoch 66/100\n",
      "25/25 [==============================] - 4s 157ms/step - loss: 0.2411 - accuracy: 0.9081 - val_loss: 2.0303 - val_accuracy: 0.5175\n",
      "Epoch 67/100\n",
      "25/25 [==============================] - 4s 156ms/step - loss: 0.3002 - accuracy: 0.8913 - val_loss: 1.6432 - val_accuracy: 0.5275\n",
      "Epoch 68/100\n",
      "25/25 [==============================] - 4s 156ms/step - loss: 0.2586 - accuracy: 0.9006 - val_loss: 1.7353 - val_accuracy: 0.5225\n",
      "Epoch 69/100\n",
      "25/25 [==============================] - 4s 155ms/step - loss: 0.2976 - accuracy: 0.8888 - val_loss: 1.6161 - val_accuracy: 0.5475\n",
      "Epoch 70/100\n",
      "25/25 [==============================] - 4s 160ms/step - loss: 0.2509 - accuracy: 0.9050 - val_loss: 1.8246 - val_accuracy: 0.5350\n",
      "Epoch 71/100\n",
      "25/25 [==============================] - 4s 164ms/step - loss: 0.2652 - accuracy: 0.9006 - val_loss: 1.6470 - val_accuracy: 0.5675\n",
      "Epoch 72/100\n",
      "25/25 [==============================] - 4s 161ms/step - loss: 0.2398 - accuracy: 0.9112 - val_loss: 1.7632 - val_accuracy: 0.5550\n",
      "Epoch 73/100\n",
      "25/25 [==============================] - 4s 160ms/step - loss: 0.2248 - accuracy: 0.9156 - val_loss: 1.8189 - val_accuracy: 0.5550\n",
      "Epoch 74/100\n",
      "25/25 [==============================] - 4s 163ms/step - loss: 0.2112 - accuracy: 0.9206 - val_loss: 1.8910 - val_accuracy: 0.5600\n",
      "Epoch 75/100\n",
      "25/25 [==============================] - 4s 159ms/step - loss: 0.2070 - accuracy: 0.9194 - val_loss: 1.9469 - val_accuracy: 0.5575\n",
      "Epoch 76/100\n",
      "25/25 [==============================] - 4s 163ms/step - loss: 0.2104 - accuracy: 0.9144 - val_loss: 1.8913 - val_accuracy: 0.5600\n",
      "Epoch 77/100\n",
      "25/25 [==============================] - 4s 165ms/step - loss: 0.2145 - accuracy: 0.9194 - val_loss: 1.9717 - val_accuracy: 0.5750\n",
      "Epoch 78/100\n",
      "25/25 [==============================] - 4s 163ms/step - loss: 0.2233 - accuracy: 0.9131 - val_loss: 1.9072 - val_accuracy: 0.5575\n",
      "Epoch 79/100\n",
      "25/25 [==============================] - 4s 159ms/step - loss: 0.2056 - accuracy: 0.9262 - val_loss: 2.0523 - val_accuracy: 0.5450\n",
      "Epoch 80/100\n",
      "25/25 [==============================] - 4s 161ms/step - loss: 0.2525 - accuracy: 0.9044 - val_loss: 1.8416 - val_accuracy: 0.5400\n",
      "Epoch 81/100\n",
      "25/25 [==============================] - 4s 163ms/step - loss: 0.1994 - accuracy: 0.9250 - val_loss: 1.7906 - val_accuracy: 0.5600\n",
      "Epoch 82/100\n",
      "25/25 [==============================] - 4s 159ms/step - loss: 0.1823 - accuracy: 0.9331 - val_loss: 2.1219 - val_accuracy: 0.5300\n",
      "Epoch 83/100\n",
      "25/25 [==============================] - 4s 159ms/step - loss: 0.2627 - accuracy: 0.8988 - val_loss: 1.7449 - val_accuracy: 0.5675\n",
      "Epoch 84/100\n",
      "25/25 [==============================] - 4s 163ms/step - loss: 0.2004 - accuracy: 0.9231 - val_loss: 1.8273 - val_accuracy: 0.5700\n",
      "Epoch 85/100\n",
      "25/25 [==============================] - 4s 160ms/step - loss: 0.2087 - accuracy: 0.9181 - val_loss: 1.8468 - val_accuracy: 0.5275\n",
      "Epoch 86/100\n",
      "25/25 [==============================] - 4s 159ms/step - loss: 0.1998 - accuracy: 0.9219 - val_loss: 1.8266 - val_accuracy: 0.5600\n",
      "Epoch 87/100\n",
      "25/25 [==============================] - 4s 159ms/step - loss: 0.2009 - accuracy: 0.9250 - val_loss: 2.0390 - val_accuracy: 0.5275\n",
      "Epoch 88/100\n",
      "25/25 [==============================] - 4s 159ms/step - loss: 0.2346 - accuracy: 0.9100 - val_loss: 1.8720 - val_accuracy: 0.5600\n",
      "Epoch 89/100\n",
      "25/25 [==============================] - 4s 161ms/step - loss: 0.2040 - accuracy: 0.9231 - val_loss: 2.0051 - val_accuracy: 0.5475\n",
      "Epoch 90/100\n",
      "25/25 [==============================] - 4s 160ms/step - loss: 0.1956 - accuracy: 0.9294 - val_loss: 1.8985 - val_accuracy: 0.5525\n",
      "Epoch 91/100\n",
      "25/25 [==============================] - 4s 159ms/step - loss: 0.1602 - accuracy: 0.9419 - val_loss: 1.9934 - val_accuracy: 0.5625\n",
      "Epoch 92/100\n",
      "25/25 [==============================] - 4s 156ms/step - loss: 0.2169 - accuracy: 0.9144 - val_loss: 1.9772 - val_accuracy: 0.5500\n",
      "Epoch 93/100\n",
      "25/25 [==============================] - 4s 167ms/step - loss: 0.2257 - accuracy: 0.9175 - val_loss: 1.9251 - val_accuracy: 0.5375\n",
      "Epoch 94/100\n",
      "25/25 [==============================] - 4s 164ms/step - loss: 0.2146 - accuracy: 0.9256 - val_loss: 2.0564 - val_accuracy: 0.5550\n",
      "Epoch 95/100\n",
      "25/25 [==============================] - 4s 162ms/step - loss: 0.1864 - accuracy: 0.9206 - val_loss: 2.0387 - val_accuracy: 0.5625\n",
      "Epoch 96/100\n",
      "25/25 [==============================] - 4s 167ms/step - loss: 0.2565 - accuracy: 0.9112 - val_loss: 1.9061 - val_accuracy: 0.5375\n",
      "Epoch 97/100\n",
      "25/25 [==============================] - 4s 165ms/step - loss: 0.2027 - accuracy: 0.9281 - val_loss: 1.9199 - val_accuracy: 0.5600\n",
      "Epoch 98/100\n",
      "25/25 [==============================] - 4s 166ms/step - loss: 0.2081 - accuracy: 0.9181 - val_loss: 1.8752 - val_accuracy: 0.5625\n",
      "Epoch 99/100\n",
      "25/25 [==============================] - 4s 160ms/step - loss: 0.2010 - accuracy: 0.9244 - val_loss: 1.9548 - val_accuracy: 0.5575\n",
      "Epoch 100/100\n",
      "25/25 [==============================] - 4s 164ms/step - loss: 0.1616 - accuracy: 0.9400 - val_loss: 2.1059 - val_accuracy: 0.5550\n"
     ]
    }
   ],
   "source": [
    "epochs = 100 \n",
    "history = vgg_model.fit(train_ds, validation_data=val_ds, epochs=epochs)\n"
   ]
  },
  {
   "cell_type": "code",
   "execution_count": 133,
   "metadata": {},
   "outputs": [
    {
     "data": {
      "image/png": "[encoded data removed]",
      "text/plain": [
       "<Figure size 432x288 with 1 Axes>"
      ]
     },
     "metadata": {
      "needs_background": "light"
     },
     "output_type": "display_data"
    }
   ],
   "source": [
    "fig1 = plt.gcf()\n",
    "plt.plot(history.history['accuracy'])\n",
    "plt.plot(history.history['val_accuracy'])\n",
    "plt.axis(ymin=0.0, ymax=1)\n",
    "plt.grid()\n",
    "plt.title('Model Accuracy')\n",
    "plt.ylabel('Accuracy')\n",
    "plt.xlabel('Epochs')\n",
    "plt.legend(['train', 'validation'])\n",
    "plt.show()\n"
   ]
  },
  {
   "cell_type": "code",
   "execution_count": 134,
   "metadata": {},
   "outputs": [
    {
     "data": {
      "image/png": "[encoded data removed]",
      "text/plain": [
       "<Figure size 432x288 with 1 Axes>"
      ]
     },
     "metadata": {
      "needs_background": "light"
     },
     "output_type": "display_data"
    }
   ],
   "source": [
    "fig1 = plt.gcf()\n",
    "plt.plot(history.history['loss'])\n",
    "plt.plot(history.history['val_loss'])\n",
    "plt.axis(ymin=0.1, ymax=3)\n",
    "plt.grid()\n",
    "plt.title('Model Loss')\n",
    "plt.ylabel('Loss')\n",
    "plt.xlabel('Epochs')\n",
    "plt.legend(['train', 'validation'])\n",
    "plt.show()\n"
   ]
  },
  {
   "cell_type": "code",
   "execution_count": 135,
   "metadata": {},
   "outputs": [],
   "source": [
    "vgg_model.save(\n",
    "    r'C:\\Users\\Miguel\\OneDrive - Universidad de Oviedo\\TFG\\Bases de datos\\Codigo\\ModelosEntrenados\\VGG16_Balanced4_Butter_Prog_80_20.h5')\n"
   ]
  }
 ],
 "metadata": {
  "interpreter": {
   "hash": "c0e44d6e130a3c023df43b81b17527a06300f971f4b80a304d6dbf0e34bee940"
  },
  "kernelspec": {
   "display_name": "Python 3.9.5 64-bit",
   "language": "python",
   "name": "python3"
  },
  "language_info": {
   "codemirror_mode": {
    "name": "ipython",
    "version": 3
   },
   "file_extension": ".py",
   "mimetype": "text/x-python",
   "name": "python",
   "nbconvert_exporter": "python",
   "pygments_lexer": "ipython3",
   "version": "3.9.5"
  },
  "orig_nbformat": 4
 },
 "nbformat": 4,
 "nbformat_minor": 2
}
