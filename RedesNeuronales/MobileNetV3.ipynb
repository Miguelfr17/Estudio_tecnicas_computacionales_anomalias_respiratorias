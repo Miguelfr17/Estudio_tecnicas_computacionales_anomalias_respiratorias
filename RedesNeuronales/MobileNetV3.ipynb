{
 "cells": [
  {
   "cell_type": "code",
   "execution_count": 53,
   "metadata": {},
   "outputs": [],
   "source": [
    "import matplotlib.pyplot as plt\n",
    "import numpy as np\n",
    "import os\n",
    "import PIL\n",
    "import tensorflow as tf\n",
    "from tensorflow import keras\n",
    "from tensorflow.keras import layers\n",
    "from tensorflow.keras.layers import Dense, Flatten, Dropout\n",
    "from tensorflow.keras.models import Sequential\n",
    "from tensorflow.keras.optimizers import Adam, RMSprop, SGD\n"
   ]
  },
  {
   "cell_type": "code",
   "execution_count": 54,
   "metadata": {},
   "outputs": [
    {
     "name": "stdout",
     "output_type": "stream",
     "text": [
      "<module 'tensorflow._api.v2.version' from 'C:\\\\Users\\\\Miguel\\\\AppData\\\\Local\\\\Programs\\\\Python\\\\Python39\\\\lib\\\\site-packages\\\\tensorflow\\\\_api\\\\v2\\\\version\\\\__init__.py'>\n",
      "Num GPUs Available:  1\n"
     ]
    }
   ],
   "source": [
    "print(tf.version)\n",
    "print(\"Num GPUs Available: \", len(tf.config.list_physical_devices('GPU')))\n"
   ]
  },
  {
   "cell_type": "code",
   "execution_count": 55,
   "metadata": {},
   "outputs": [],
   "source": [
    "#Cargamos el dataset\n",
    "import pathlib\n",
    "data_dir = r\"C:\\Users\\Miguel\\OneDrive - Universidad de Oviedo\\TFG\\Bases de datos\\ICHBI\\DATASETS\\CICLOS_BUTTER\\Balanceado_4clases\\dataset\"\n",
    "data_dir = pathlib.Path(data_dir)\n"
   ]
  },
  {
   "cell_type": "code",
   "execution_count": 56,
   "metadata": {},
   "outputs": [
    {
     "data": {
      "image/png": "[encoded data removed]",
      "text/plain": [
       "<PIL.PngImagePlugin.PngImageFile image mode=RGBA size=224x224 at 0x1A6B61858E0>"
      ]
     },
     "execution_count": 56,
     "metadata": {},
     "output_type": "execute_result"
    }
   ],
   "source": [
    "#obtenemos un ejemplo\n",
    "crackles = list(data_dir.glob('both/*'))\n",
    "PIL.Image.open(str(crackles[0]))\n"
   ]
  },
  {
   "cell_type": "code",
   "execution_count": 57,
   "metadata": {},
   "outputs": [
    {
     "name": "stdout",
     "output_type": "stream",
     "text": [
      "Found 2000 files belonging to 4 classes.\n",
      "Using 1600 files for training.\n"
     ]
    }
   ],
   "source": [
    "altura_imagen, anchura_imagen = 224, 224\n",
    "batch_size = 64\n",
    "train_ds = tf.keras.preprocessing.image_dataset_from_directory(\n",
    "    data_dir,\n",
    "    validation_split=0.2,\n",
    "    subset=\"training\",\n",
    "    seed=17,\n",
    "    label_mode='categorical',\n",
    "    image_size=(altura_imagen, anchura_imagen),\n",
    "    batch_size=batch_size)\n"
   ]
  },
  {
   "cell_type": "code",
   "execution_count": 58,
   "metadata": {},
   "outputs": [
    {
     "name": "stdout",
     "output_type": "stream",
     "text": [
      "Found 2000 files belonging to 4 classes.\n",
      "Using 400 files for validation.\n"
     ]
    }
   ],
   "source": [
    "val_ds = tf.keras.preprocessing.image_dataset_from_directory(\n",
    "    data_dir,\n",
    "    validation_split=0.2,\n",
    "    subset=\"validation\",\n",
    "    seed=17,\n",
    "    label_mode='categorical',\n",
    "    image_size=(altura_imagen, anchura_imagen),\n",
    "    batch_size=batch_size)\n"
   ]
  },
  {
   "cell_type": "code",
   "execution_count": 59,
   "metadata": {},
   "outputs": [
    {
     "name": "stdout",
     "output_type": "stream",
     "text": [
      "['both', 'crackles', 'empty', 'wheezes']\n"
     ]
    }
   ],
   "source": [
    "class_names = train_ds.class_names\n",
    "print(class_names)\n"
   ]
  },
  {
   "cell_type": "code",
   "execution_count": 60,
   "metadata": {},
   "outputs": [],
   "source": [
    "mobile_model = Sequential()\n",
    "\n",
    "pretrained_model = tf.keras.applications.MobileNetV3Small(include_top=False, input_shape=(\n",
    "    224, 224, 3), pooling='avg', classes=4, weights='imagenet')\n",
    "\n",
    "for layer in mobile_model.layers:\n",
    "    layer.trainable = False\n",
    "\n",
    "mobile_model.add(pretrained_model)\n",
    "\n",
    "#############Base################\n",
    "mobile_model.add(Flatten())\n",
    "mobile_model.add(Dense(1024, activation='relu'))\n",
    "#################################\n",
    "\n",
    "#############2D2Drop##############\n",
    "#mobile_model.add(Flatten())\n",
    "#mobile_model.add(Dense(128, activation='relu'))\n",
    "#mobile_model.add(Dropout(0.5))\n",
    "#mobile_model.add(Dense(128, activation='relu'))\n",
    "#mobile_model.add(Dropout(0.5))\n",
    "###################################\n",
    "\n",
    "##########Progresivo#############\n",
    "#mobile_model.add(Dense(2048, activation='relu'))\n",
    "#mobile_model.add(Dropout(0.5))\n",
    "#mobile_model.add(Dense(1024, activation='relu'))\n",
    "#mobile_model.add(Dropout(0.25))\n",
    "#mobile_model.add(Dense(512, activation='relu'))\n",
    "#mobile_model.add(Dropout(0.1))\n",
    "##################################\n",
    "\n",
    "\n",
    "mobile_model.add(Dense(4, activation='softmax'))\n"
   ]
  },
  {
   "cell_type": "code",
   "execution_count": 61,
   "metadata": {},
   "outputs": [
    {
     "name": "stdout",
     "output_type": "stream",
     "text": [
      "Model: \"sequential_4\"\n",
      "_________________________________________________________________\n",
      "Layer (type)                 Output Shape              Param #   \n",
      "=================================================================\n",
      "MobilenetV3small (Functional (None, 1024)              1529968   \n",
      "_________________________________________________________________\n",
      "flatten_2 (Flatten)          (None, 1024)              0         \n",
      "_________________________________________________________________\n",
      "dense_14 (Dense)             (None, 1024)              1049600   \n",
      "_________________________________________________________________\n",
      "dense_15 (Dense)             (None, 4)                 4100      \n",
      "=================================================================\n",
      "Total params: 2,583,668\n",
      "Trainable params: 2,571,556\n",
      "Non-trainable params: 12,112\n",
      "_________________________________________________________________\n"
     ]
    }
   ],
   "source": [
    "mobile_model.summary()\n"
   ]
  },
  {
   "cell_type": "code",
   "execution_count": 62,
   "metadata": {},
   "outputs": [],
   "source": [
    "mobile_model.compile(optimizer=Adam(learning_rate=0.001),\n",
    "                     loss='categorical_crossentropy', metrics=['accuracy'])\n"
   ]
  },
  {
   "cell_type": "code",
   "execution_count": 63,
   "metadata": {},
   "outputs": [
    {
     "name": "stdout",
     "output_type": "stream",
     "text": [
      "Epoch 1/100\n",
      "25/25 [==============================] - 6s 145ms/step - loss: 1.3151 - accuracy: 0.4206 - val_loss: 1.6276 - val_accuracy: 0.2650\n",
      "Epoch 2/100\n",
      "25/25 [==============================] - 3s 125ms/step - loss: 0.9006 - accuracy: 0.6162 - val_loss: 1.8521 - val_accuracy: 0.3375\n",
      "Epoch 3/100\n",
      "25/25 [==============================] - 3s 126ms/step - loss: 0.5338 - accuracy: 0.7819 - val_loss: 2.2778 - val_accuracy: 0.3450\n",
      "Epoch 4/100\n",
      "25/25 [==============================] - 3s 125ms/step - loss: 0.3522 - accuracy: 0.8675 - val_loss: 2.7911 - val_accuracy: 0.3200\n",
      "Epoch 5/100\n",
      "25/25 [==============================] - 3s 126ms/step - loss: 0.3138 - accuracy: 0.8825 - val_loss: 2.8785 - val_accuracy: 0.3325\n",
      "Epoch 6/100\n",
      "25/25 [==============================] - 3s 124ms/step - loss: 0.2298 - accuracy: 0.9062 - val_loss: 3.8334 - val_accuracy: 0.3275\n",
      "Epoch 7/100\n",
      "25/25 [==============================] - 3s 125ms/step - loss: 0.1705 - accuracy: 0.9325 - val_loss: 2.7876 - val_accuracy: 0.3975\n",
      "Epoch 8/100\n",
      "25/25 [==============================] - 3s 125ms/step - loss: 0.1207 - accuracy: 0.9619 - val_loss: 4.0554 - val_accuracy: 0.3525\n",
      "Epoch 9/100\n",
      "25/25 [==============================] - 3s 124ms/step - loss: 0.0946 - accuracy: 0.9706 - val_loss: 4.5363 - val_accuracy: 0.3650\n",
      "Epoch 10/100\n",
      "25/25 [==============================] - 3s 127ms/step - loss: 0.0834 - accuracy: 0.9638 - val_loss: 6.3011 - val_accuracy: 0.3625\n",
      "Epoch 11/100\n",
      "25/25 [==============================] - 3s 124ms/step - loss: 0.1132 - accuracy: 0.9588 - val_loss: 4.1485 - val_accuracy: 0.3775\n",
      "Epoch 12/100\n",
      "25/25 [==============================] - 3s 125ms/step - loss: 0.1205 - accuracy: 0.9581 - val_loss: 3.8604 - val_accuracy: 0.3600\n",
      "Epoch 13/100\n",
      "25/25 [==============================] - 3s 126ms/step - loss: 0.0761 - accuracy: 0.9737 - val_loss: 4.2003 - val_accuracy: 0.3825\n",
      "Epoch 14/100\n",
      "25/25 [==============================] - 3s 126ms/step - loss: 0.0925 - accuracy: 0.9656 - val_loss: 4.5481 - val_accuracy: 0.3575\n",
      "Epoch 15/100\n",
      "25/25 [==============================] - 3s 126ms/step - loss: 0.0934 - accuracy: 0.9650 - val_loss: 5.4203 - val_accuracy: 0.3275\n",
      "Epoch 16/100\n",
      "25/25 [==============================] - 3s 125ms/step - loss: 0.0786 - accuracy: 0.9719 - val_loss: 3.5466 - val_accuracy: 0.3775\n",
      "Epoch 17/100\n",
      "25/25 [==============================] - 3s 125ms/step - loss: 0.0706 - accuracy: 0.9725 - val_loss: 3.8062 - val_accuracy: 0.4200\n",
      "Epoch 18/100\n",
      "25/25 [==============================] - 3s 126ms/step - loss: 0.0686 - accuracy: 0.9756 - val_loss: 3.9597 - val_accuracy: 0.4150\n",
      "Epoch 19/100\n",
      "25/25 [==============================] - 3s 125ms/step - loss: 0.1307 - accuracy: 0.9550 - val_loss: 4.3343 - val_accuracy: 0.4000\n",
      "Epoch 20/100\n",
      "25/25 [==============================] - 3s 126ms/step - loss: 0.1135 - accuracy: 0.9588 - val_loss: 4.8870 - val_accuracy: 0.3775\n",
      "Epoch 21/100\n",
      "25/25 [==============================] - 3s 124ms/step - loss: 0.0763 - accuracy: 0.9750 - val_loss: 5.9278 - val_accuracy: 0.3900\n",
      "Epoch 22/100\n",
      "25/25 [==============================] - 3s 124ms/step - loss: 0.0767 - accuracy: 0.9725 - val_loss: 4.3508 - val_accuracy: 0.3825\n",
      "Epoch 23/100\n",
      "25/25 [==============================] - 3s 123ms/step - loss: 0.0917 - accuracy: 0.9681 - val_loss: 3.7973 - val_accuracy: 0.4000\n",
      "Epoch 24/100\n",
      "25/25 [==============================] - 3s 125ms/step - loss: 0.0687 - accuracy: 0.9725 - val_loss: 3.3800 - val_accuracy: 0.4400\n",
      "Epoch 25/100\n",
      "25/25 [==============================] - 3s 129ms/step - loss: 0.0805 - accuracy: 0.9712 - val_loss: 3.1457 - val_accuracy: 0.4075\n",
      "Epoch 26/100\n",
      "25/25 [==============================] - 3s 125ms/step - loss: 0.0463 - accuracy: 0.9812 - val_loss: 3.8904 - val_accuracy: 0.4225\n",
      "Epoch 27/100\n",
      "25/25 [==============================] - 3s 127ms/step - loss: 0.0348 - accuracy: 0.9850 - val_loss: 3.8683 - val_accuracy: 0.4650\n",
      "Epoch 28/100\n",
      "25/25 [==============================] - 3s 125ms/step - loss: 0.0252 - accuracy: 0.9887 - val_loss: 3.8664 - val_accuracy: 0.4400\n",
      "Epoch 29/100\n",
      "25/25 [==============================] - 3s 125ms/step - loss: 0.0317 - accuracy: 0.9844 - val_loss: 3.1087 - val_accuracy: 0.4500\n",
      "Epoch 30/100\n",
      "25/25 [==============================] - 3s 128ms/step - loss: 0.0226 - accuracy: 0.9887 - val_loss: 3.4374 - val_accuracy: 0.4800\n",
      "Epoch 31/100\n",
      "25/25 [==============================] - 3s 125ms/step - loss: 0.0240 - accuracy: 0.9856 - val_loss: 3.3954 - val_accuracy: 0.4775\n",
      "Epoch 32/100\n",
      "25/25 [==============================] - 3s 126ms/step - loss: 0.0296 - accuracy: 0.9912 - val_loss: 3.5572 - val_accuracy: 0.4875\n",
      "Epoch 33/100\n",
      "25/25 [==============================] - 3s 125ms/step - loss: 0.0307 - accuracy: 0.9869 - val_loss: 3.9473 - val_accuracy: 0.4375\n",
      "Epoch 34/100\n",
      "25/25 [==============================] - 3s 126ms/step - loss: 0.0427 - accuracy: 0.9825 - val_loss: 5.2549 - val_accuracy: 0.3950\n",
      "Epoch 35/100\n",
      "25/25 [==============================] - 3s 127ms/step - loss: 0.0600 - accuracy: 0.9819 - val_loss: 8.1454 - val_accuracy: 0.3475\n",
      "Epoch 36/100\n",
      "25/25 [==============================] - 3s 124ms/step - loss: 0.1252 - accuracy: 0.9619 - val_loss: 3.3792 - val_accuracy: 0.4475\n",
      "Epoch 37/100\n",
      "25/25 [==============================] - 3s 125ms/step - loss: 0.0816 - accuracy: 0.9706 - val_loss: 4.5833 - val_accuracy: 0.4650\n",
      "Epoch 38/100\n",
      "25/25 [==============================] - 3s 122ms/step - loss: 0.0639 - accuracy: 0.9744 - val_loss: 3.6997 - val_accuracy: 0.4975\n",
      "Epoch 39/100\n",
      "25/25 [==============================] - 3s 122ms/step - loss: 0.0767 - accuracy: 0.9737 - val_loss: 3.5720 - val_accuracy: 0.4725\n",
      "Epoch 40/100\n",
      "25/25 [==============================] - 3s 122ms/step - loss: 0.0437 - accuracy: 0.9825 - val_loss: 4.3606 - val_accuracy: 0.4275\n",
      "Epoch 41/100\n",
      "25/25 [==============================] - 3s 126ms/step - loss: 0.0263 - accuracy: 0.9894 - val_loss: 4.5078 - val_accuracy: 0.4600\n",
      "Epoch 42/100\n",
      "25/25 [==============================] - 3s 136ms/step - loss: 0.0280 - accuracy: 0.9881 - val_loss: 5.5751 - val_accuracy: 0.4375\n",
      "Epoch 43/100\n",
      "25/25 [==============================] - 3s 127ms/step - loss: 0.0339 - accuracy: 0.9869 - val_loss: 6.8960 - val_accuracy: 0.4450\n",
      "Epoch 44/100\n",
      "25/25 [==============================] - 3s 131ms/step - loss: 0.0393 - accuracy: 0.9856 - val_loss: 4.9940 - val_accuracy: 0.4275\n",
      "Epoch 45/100\n",
      "25/25 [==============================] - 3s 135ms/step - loss: 0.0462 - accuracy: 0.9831 - val_loss: 4.0573 - val_accuracy: 0.4550\n",
      "Epoch 46/100\n",
      "25/25 [==============================] - 3s 128ms/step - loss: 0.0362 - accuracy: 0.9837 - val_loss: 4.7390 - val_accuracy: 0.5075\n",
      "Epoch 47/100\n",
      "25/25 [==============================] - 3s 125ms/step - loss: 0.0675 - accuracy: 0.9762 - val_loss: 5.1410 - val_accuracy: 0.4625\n",
      "Epoch 48/100\n",
      "25/25 [==============================] - 3s 125ms/step - loss: 0.0663 - accuracy: 0.9712 - val_loss: 4.9433 - val_accuracy: 0.5000\n",
      "Epoch 49/100\n",
      "25/25 [==============================] - 3s 126ms/step - loss: 0.0474 - accuracy: 0.9837 - val_loss: 4.6371 - val_accuracy: 0.5050\n",
      "Epoch 50/100\n",
      "25/25 [==============================] - 3s 124ms/step - loss: 0.0507 - accuracy: 0.9756 - val_loss: 4.1769 - val_accuracy: 0.4850\n",
      "Epoch 51/100\n",
      "25/25 [==============================] - 3s 124ms/step - loss: 0.0382 - accuracy: 0.9850 - val_loss: 4.6260 - val_accuracy: 0.4825\n",
      "Epoch 52/100\n",
      "25/25 [==============================] - 3s 132ms/step - loss: 0.0306 - accuracy: 0.9856 - val_loss: 3.2760 - val_accuracy: 0.4825\n",
      "Epoch 53/100\n",
      "25/25 [==============================] - 3s 135ms/step - loss: 0.0375 - accuracy: 0.9881 - val_loss: 3.4037 - val_accuracy: 0.5300\n",
      "Epoch 54/100\n",
      "25/25 [==============================] - 4s 145ms/step - loss: 0.0293 - accuracy: 0.9906 - val_loss: 3.2644 - val_accuracy: 0.5050\n",
      "Epoch 55/100\n",
      "25/25 [==============================] - 3s 133ms/step - loss: 0.0135 - accuracy: 0.9919 - val_loss: 3.5783 - val_accuracy: 0.5450\n",
      "Epoch 56/100\n",
      "25/25 [==============================] - 3s 131ms/step - loss: 0.0137 - accuracy: 0.9919 - val_loss: 4.4210 - val_accuracy: 0.5325\n",
      "Epoch 57/100\n",
      "25/25 [==============================] - 3s 133ms/step - loss: 0.0132 - accuracy: 0.9912 - val_loss: 3.8492 - val_accuracy: 0.5575\n",
      "Epoch 58/100\n",
      "25/25 [==============================] - 3s 126ms/step - loss: 0.0264 - accuracy: 0.9881 - val_loss: 4.5137 - val_accuracy: 0.5025\n",
      "Epoch 59/100\n",
      "25/25 [==============================] - 3s 131ms/step - loss: 0.0657 - accuracy: 0.9731 - val_loss: 3.8279 - val_accuracy: 0.4725\n",
      "Epoch 60/100\n",
      "25/25 [==============================] - 3s 130ms/step - loss: 0.0867 - accuracy: 0.9750 - val_loss: 3.9260 - val_accuracy: 0.5050\n",
      "Epoch 61/100\n",
      "25/25 [==============================] - 3s 125ms/step - loss: 0.0785 - accuracy: 0.9694 - val_loss: 4.1989 - val_accuracy: 0.4500\n",
      "Epoch 62/100\n",
      "25/25 [==============================] - 3s 130ms/step - loss: 0.0532 - accuracy: 0.9787 - val_loss: 4.8387 - val_accuracy: 0.4750\n",
      "Epoch 63/100\n",
      "25/25 [==============================] - 3s 126ms/step - loss: 0.0419 - accuracy: 0.9831 - val_loss: 5.3089 - val_accuracy: 0.4500\n",
      "Epoch 64/100\n",
      "25/25 [==============================] - 3s 131ms/step - loss: 0.0520 - accuracy: 0.9781 - val_loss: 5.2492 - val_accuracy: 0.4375\n",
      "Epoch 65/100\n",
      "25/25 [==============================] - 3s 131ms/step - loss: 0.0508 - accuracy: 0.9787 - val_loss: 5.5094 - val_accuracy: 0.4400\n",
      "Epoch 66/100\n",
      "25/25 [==============================] - 3s 130ms/step - loss: 0.0528 - accuracy: 0.9831 - val_loss: 4.3435 - val_accuracy: 0.4650\n",
      "Epoch 67/100\n",
      "25/25 [==============================] - 3s 126ms/step - loss: 0.0597 - accuracy: 0.9794 - val_loss: 4.3511 - val_accuracy: 0.4975\n",
      "Epoch 68/100\n",
      "25/25 [==============================] - 3s 130ms/step - loss: 0.0562 - accuracy: 0.9781 - val_loss: 3.1866 - val_accuracy: 0.5075\n",
      "Epoch 69/100\n",
      "25/25 [==============================] - 3s 126ms/step - loss: 0.0374 - accuracy: 0.9844 - val_loss: 3.3215 - val_accuracy: 0.5100\n",
      "Epoch 70/100\n",
      "25/25 [==============================] - 3s 126ms/step - loss: 0.0429 - accuracy: 0.9806 - val_loss: 2.8381 - val_accuracy: 0.5025\n",
      "Epoch 71/100\n",
      "25/25 [==============================] - 3s 126ms/step - loss: 0.0188 - accuracy: 0.9906 - val_loss: 3.7764 - val_accuracy: 0.5000\n",
      "Epoch 72/100\n",
      "25/25 [==============================] - 4s 137ms/step - loss: 0.0454 - accuracy: 0.9825 - val_loss: 2.9184 - val_accuracy: 0.5175\n",
      "Epoch 73/100\n",
      "25/25 [==============================] - 3s 130ms/step - loss: 0.0185 - accuracy: 0.9906 - val_loss: 3.3266 - val_accuracy: 0.5025\n",
      "Epoch 74/100\n",
      "25/25 [==============================] - 3s 133ms/step - loss: 0.0113 - accuracy: 0.9931 - val_loss: 3.5166 - val_accuracy: 0.5200\n",
      "Epoch 75/100\n",
      "25/25 [==============================] - 3s 130ms/step - loss: 0.0109 - accuracy: 0.9931 - val_loss: 3.5217 - val_accuracy: 0.5500\n",
      "Epoch 76/100\n",
      "25/25 [==============================] - 3s 128ms/step - loss: 0.0143 - accuracy: 0.9925 - val_loss: 3.4866 - val_accuracy: 0.5325\n",
      "Epoch 77/100\n",
      "25/25 [==============================] - 3s 131ms/step - loss: 0.0113 - accuracy: 0.9912 - val_loss: 3.2896 - val_accuracy: 0.5375\n",
      "Epoch 78/100\n",
      "25/25 [==============================] - 3s 135ms/step - loss: 0.0128 - accuracy: 0.9906 - val_loss: 3.5728 - val_accuracy: 0.5375\n",
      "Epoch 79/100\n",
      "25/25 [==============================] - 4s 138ms/step - loss: 0.0190 - accuracy: 0.9887 - val_loss: 3.0548 - val_accuracy: 0.5325\n",
      "Epoch 80/100\n",
      "25/25 [==============================] - 3s 131ms/step - loss: 0.0115 - accuracy: 0.9906 - val_loss: 3.6699 - val_accuracy: 0.5125\n",
      "Epoch 81/100\n",
      "25/25 [==============================] - 3s 126ms/step - loss: 0.0142 - accuracy: 0.9919 - val_loss: 3.0864 - val_accuracy: 0.5450\n",
      "Epoch 82/100\n",
      "25/25 [==============================] - 3s 123ms/step - loss: 0.0339 - accuracy: 0.9862 - val_loss: 3.9348 - val_accuracy: 0.5375\n",
      "Epoch 83/100\n",
      "25/25 [==============================] - 3s 125ms/step - loss: 0.0677 - accuracy: 0.9719 - val_loss: 2.7946 - val_accuracy: 0.5000\n",
      "Epoch 84/100\n",
      "25/25 [==============================] - 3s 122ms/step - loss: 0.0647 - accuracy: 0.9737 - val_loss: 2.6464 - val_accuracy: 0.4925\n",
      "Epoch 85/100\n",
      "25/25 [==============================] - 3s 124ms/step - loss: 0.0448 - accuracy: 0.9787 - val_loss: 2.9316 - val_accuracy: 0.5200\n",
      "Epoch 86/100\n",
      "25/25 [==============================] - 3s 129ms/step - loss: 0.0473 - accuracy: 0.9812 - val_loss: 3.0827 - val_accuracy: 0.5225\n",
      "Epoch 87/100\n",
      "25/25 [==============================] - 3s 124ms/step - loss: 0.0545 - accuracy: 0.9837 - val_loss: 2.9828 - val_accuracy: 0.5400\n",
      "Epoch 88/100\n",
      "25/25 [==============================] - 3s 131ms/step - loss: 0.0261 - accuracy: 0.9887 - val_loss: 3.5978 - val_accuracy: 0.5025\n",
      "Epoch 89/100\n",
      "25/25 [==============================] - 3s 125ms/step - loss: 0.0518 - accuracy: 0.9856 - val_loss: 2.5512 - val_accuracy: 0.5425\n",
      "Epoch 90/100\n",
      "25/25 [==============================] - 3s 125ms/step - loss: 0.0256 - accuracy: 0.9881 - val_loss: 3.6505 - val_accuracy: 0.4450\n",
      "Epoch 91/100\n",
      "25/25 [==============================] - 3s 126ms/step - loss: 0.0498 - accuracy: 0.9812 - val_loss: 3.4140 - val_accuracy: 0.4800\n",
      "Epoch 92/100\n",
      "25/25 [==============================] - 3s 123ms/step - loss: 0.0613 - accuracy: 0.9781 - val_loss: 2.5397 - val_accuracy: 0.5050\n",
      "Epoch 93/100\n",
      "25/25 [==============================] - 3s 127ms/step - loss: 0.0411 - accuracy: 0.9875 - val_loss: 3.5661 - val_accuracy: 0.4725\n",
      "Epoch 94/100\n",
      "25/25 [==============================] - 3s 124ms/step - loss: 0.0395 - accuracy: 0.9831 - val_loss: 3.7589 - val_accuracy: 0.5075\n",
      "Epoch 95/100\n",
      "25/25 [==============================] - 3s 128ms/step - loss: 0.0366 - accuracy: 0.9837 - val_loss: 3.1890 - val_accuracy: 0.5100\n",
      "Epoch 96/100\n",
      "25/25 [==============================] - 3s 126ms/step - loss: 0.0562 - accuracy: 0.9781 - val_loss: 3.3206 - val_accuracy: 0.4650\n",
      "Epoch 97/100\n",
      "25/25 [==============================] - 3s 124ms/step - loss: 0.0549 - accuracy: 0.9800 - val_loss: 2.3947 - val_accuracy: 0.5100\n",
      "Epoch 98/100\n",
      "25/25 [==============================] - 3s 130ms/step - loss: 0.0251 - accuracy: 0.9887 - val_loss: 2.5057 - val_accuracy: 0.5450\n",
      "Epoch 99/100\n",
      "25/25 [==============================] - 3s 127ms/step - loss: 0.0129 - accuracy: 0.9919 - val_loss: 2.5471 - val_accuracy: 0.5700\n",
      "Epoch 100/100\n",
      "25/25 [==============================] - 3s 126ms/step - loss: 0.0255 - accuracy: 0.9900 - val_loss: 2.9817 - val_accuracy: 0.5200\n"
     ]
    }
   ],
   "source": [
    "epochs = 100\n",
    "history = mobile_model.fit(train_ds, validation_data=val_ds, epochs=epochs)\n"
   ]
  },
  {
   "cell_type": "code",
   "execution_count": 64,
   "metadata": {},
   "outputs": [
    {
     "data": {
      "image/png": "[encoded data removed]",
      "text/plain": [
       "<Figure size 432x288 with 1 Axes>"
      ]
     },
     "metadata": {
      "needs_background": "light"
     },
     "output_type": "display_data"
    }
   ],
   "source": [
    "fig1 = plt.gcf()\n",
    "plt.plot(history.history['accuracy'])\n",
    "plt.plot(history.history['val_accuracy'])\n",
    "plt.axis(ymin=0.0, ymax=1)\n",
    "plt.grid()\n",
    "plt.title('Model Accuracy')\n",
    "plt.ylabel('Accuracy')\n",
    "plt.xlabel('Epochs')\n",
    "plt.legend(['train', 'validation'])\n",
    "plt.show()\n"
   ]
  },
  {
   "cell_type": "code",
   "execution_count": 65,
   "metadata": {},
   "outputs": [
    {
     "data": {
      "image/png": "[encoded data removed]",
      "text/plain": [
       "<Figure size 432x288 with 1 Axes>"
      ]
     },
     "metadata": {
      "needs_background": "light"
     },
     "output_type": "display_data"
    }
   ],
   "source": [
    "fig1 = plt.gcf()\n",
    "plt.plot(history.history['loss'])\n",
    "plt.plot(history.history['val_loss'])\n",
    "plt.axis(ymin=0.1, ymax=3)\n",
    "plt.grid()\n",
    "plt.title('Model Loss')\n",
    "plt.ylabel('Loss')\n",
    "plt.xlabel('Epochs')\n",
    "plt.legend(['train', 'validation'])\n",
    "plt.show()\n"
   ]
  },
  {
   "cell_type": "code",
   "execution_count": 66,
   "metadata": {},
   "outputs": [],
   "source": [
    "mobile_model.save(\n",
    "    r'C:\\Users\\Miguel\\OneDrive - Universidad de Oviedo\\TFG\\Bases de datos\\Codigo\\ModelosEntrenados\\MobileNetV3_Balanced4_Butter_Base_80_20.h5')\n"
   ]
  }
 ],
 "metadata": {
  "interpreter": {
   "hash": "c0e44d6e130a3c023df43b81b17527a06300f971f4b80a304d6dbf0e34bee940"
  },
  "kernelspec": {
   "display_name": "Python 3.9.5 64-bit",
   "language": "python",
   "name": "python3"
  },
  "language_info": {
   "codemirror_mode": {
    "name": "ipython",
    "version": 3
   },
   "file_extension": ".py",
   "mimetype": "text/x-python",
   "name": "python",
   "nbconvert_exporter": "python",
   "pygments_lexer": "ipython3",
   "version": "3.9.5"
  },
  "orig_nbformat": 4
 },
 "nbformat": 4,
 "nbformat_minor": 2
}
